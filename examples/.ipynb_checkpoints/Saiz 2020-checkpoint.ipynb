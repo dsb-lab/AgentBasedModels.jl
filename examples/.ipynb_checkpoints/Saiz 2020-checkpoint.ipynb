{
 "cells": [
  {
   "cell_type": "markdown",
   "metadata": {},
   "source": [
    "# Libraries"
   ]
  },
  {
   "cell_type": "code",
   "execution_count": 31,
   "metadata": {},
   "outputs": [],
   "source": [
    "push!(LOAD_PATH,\".. /src/\")\n",
    "using AgentBasedModels\n",
    "abm = AgentBasedModels\n",
    "\n",
    "using Random\n",
    "using Distributions\n",
    "using CUDA\n",
    "\n",
    "using Makie #PyPlots\n",
    "using AbstractPlotting"
   ]
  },
  {
   "cell_type": "markdown",
   "metadata": {},
   "source": [
    "# Define the model\n",
    "\n",
    "We create and empty model to fill."
   ]
  },
  {
   "cell_type": "code",
   "execution_count": 32,
   "metadata": {},
   "outputs": [],
   "source": [
    "m = Model();"
   ]
  },
  {
   "cell_type": "markdown",
   "metadata": {},
   "source": [
    "## Mechanistic part\n",
    "\n",
    "The cells move acording to the following set of equations.\n",
    "\n",
    "$$m_i\\frac{dv_i}{dt} =-bv_i+\\sum_j F_{ij}$$\n",
    "$$\\frac{dx_i}{dt} =v_i$$\n",
    "\n",
    "where the force is\n",
    "\n",
    "$$F_{ij}=\n",
    "\\begin{cases}\n",
    "F_0(\\frac{r_{ij}}{d}-1)(\\frac{\\mu r_{ij}}{d}-1)\\frac{(x_i-x_j)}{d}\\hspace{1cm}if\\;d<\\mu r_{ij}\\\\\n",
    "0\\hspace{6cm}otherwise\n",
    "\\end{cases}\n",
    "$$\n",
    "\n",
    "$d$ is the Euclidean distance and $r_{ij}$ is the sum of both radius.\n",
    "\n",
    "Let's define that part in our model part by part.\n",
    "\n",
    "First let's consider our global parameters that are equal for all cells. We have three: b, F₀, μ."
   ]
  },
  {
   "cell_type": "code",
   "execution_count": 33,
   "metadata": {},
   "outputs": [],
   "source": [
    "#Define the global parameters\n",
    "addGlobal!(m,[:b,:F₀,:μ])"
   ]
  },
  {
   "cell_type": "markdown",
   "metadata": {},
   "source": [
    "Observe that the included variables are included as symbols (two dots and the name of the variable). This is the notation for declaring abstract symbols in Julia which avoids confussion with actual variables already declared in the scope. We will use this notation all the time so it is important that you get used to it.\n",
    "\n",
    "Now let's include the local parameters. This are the mass and the radius of the cell. These parameters change on every cell but they do not follow any dynamics."
   ]
  },
  {
   "cell_type": "code",
   "execution_count": 34,
   "metadata": {},
   "outputs": [],
   "source": [
    "#Define the local parameters\n",
    "addLocal!(m,[:m,:r])"
   ]
  },
  {
   "cell_type": "markdown",
   "metadata": {},
   "source": [
    "In addition to the local variable, we have the interacting term $F_{ij}$. These are variables that depend on pairwise interactions. In addition, the interacting term depends on other pairwise functions: $r_{ij}$ and $d_{ij}$.\n",
    "\n",
    "There are several ways of defining the problem. The first one would be to explicitely put the value of the auxiliary pairwise functions in the expression. However, this would unnecessary repetitions of the same computation.\n",
    "\n",
    "Since we do not really want the value of this function, we will consider $r_{ij}$ and $d_{ij}$ auxiliar variables."
   ]
  },
  {
   "cell_type": "code",
   "execution_count": 35,
   "metadata": {},
   "outputs": [],
   "source": [
    "#Define the interacting parameter\n",
    "interaction = \n",
    "\"\n",
    "#Define the pairwise distance\n",
    "dₐ = sqrt((x₁-x₂)^2+(y₁-y₂)^2+(z₁-z₂)^2)\n",
    "#Define the radius sum\n",
    "rrₐ = r₁+r₂                              \n",
    "#Define the force components under the condition\n",
    "if dₐ < μ*rrₐ && dₐ > 0. #Make sure that the force avoids itself or it will diverge \n",
    "    Fx₁ += F₀*(rrₐ/dₐ-1)*(μ*rrₐ/dₐ-1)*(x₁-x₂)/dₐ\n",
    "    Fy₁ += F₀*(rrₐ/dₐ-1)*(μ*rrₐ/dₐ-1)*(y₁-y₂)/dₐ\n",
    "    Fz₁ += F₀*(rrₐ/dₐ-1)*(μ*rrₐ/dₐ-1)*(z₁-z₂)/dₐ\n",
    "else\n",
    "    Fx₁ += 0.\n",
    "    Fy₁ += 0.\n",
    "    Fz₁ += 0.\n",
    "end\n",
    "\"\n",
    "addInteraction!(m,[:Fx,:Fy,:Fz],interaction)"
   ]
  },
  {
   "cell_type": "markdown",
   "metadata": {},
   "source": [
    "As you can see, we have only declared the components of the force. There are several details to consider from this example:\n",
    "\n",
    "    a. For all the local parameters and variables, we noted then with the underscript 1 or 2. Fince the forces are pairwise, it is necessary to identify to which particle is the variable being called. The 1 always goes for the variables that are being updated.\n",
    "    b. The underscript 'a' is not required but if a type convention in order to avoid confusion with variables that may be defined in the model. It is a way of declare that the variable is \"auxiliar\".\n",
    "    \n",
    "Finally, we will include the variables that follow a differential equation."
   ]
  },
  {
   "cell_type": "code",
   "execution_count": 36,
   "metadata": {},
   "outputs": [],
   "source": [
    "#Define the dynamic equations\n",
    "eqs=\n",
    "\"\n",
    "dvx = (-b*vx/m+Fx/m)*dt\n",
    "dvy = (-b*vy/m+Fy/m)*dt\n",
    "dvz = (-b*vz/m+Fz/m)*dt\n",
    "dx = vx*dt\n",
    "dy = vy*dt\n",
    "dz = vz*dt\n",
    "\"\n",
    "addVariable!(m,[:vx,:vy,:vz,:x,:y,:z],eqs)"
   ]
  },
  {
   "cell_type": "markdown",
   "metadata": {},
   "source": [
    "Observe the way that the equations are described"
   ]
  },
  {
   "cell_type": "markdown",
   "metadata": {},
   "source": [
    "### Testing the model so far"
   ]
  },
  {
   "cell_type": "markdown",
   "metadata": {},
   "source": [
    "We test the dynamical model so far obtained. First we compile it."
   ]
  },
  {
   "cell_type": "code",
   "execution_count": 37,
   "metadata": {
    "scrolled": false
   },
   "outputs": [],
   "source": [
    "compile!(m,saveRAM=true,debug=false,platform=\"cpu\")"
   ]
  },
  {
   "cell_type": "markdown",
   "metadata": {},
   "source": [
    "We are goint to test the dynamics seeing how two cells evolve under the dynamics. For that we will create a community of two cells and we will have to set the initial conditions."
   ]
  },
  {
   "cell_type": "code",
   "execution_count": 38,
   "metadata": {},
   "outputs": [
    {
     "data": {
      "text/plain": [
       "0.0"
      ]
     },
     "execution_count": 38,
     "metadata": {},
     "output_type": "execute_result"
    }
   ],
   "source": [
    "com = Community(m,N=2)\n",
    "\n",
    "#Initialise global\n",
    "com[:b] = 10^-6\n",
    "com[:F₀] = 10^-4\n",
    "com[:μ] = 2\n",
    "#Initialise locals\n",
    "mᵢ = 10^-6\n",
    "rᵢ = 5\n",
    "com[:m] = mᵢ\n",
    "com[:r] = rᵢ\n",
    "#Initialise variables\n",
    "com[:x] = [0.,8.] #They are only separed in this axis\n",
    "com[:y] = [0.,0.]\n",
    "com[:z] = [0.,0.]\n",
    "com[:vx] = 0.\n",
    "com[:vy] = 0.\n",
    "com[:vz] = 0."
   ]
  },
  {
   "cell_type": "markdown",
   "metadata": {},
   "source": [
    "Observe that the interaction terms are not required to be initialised as they will be computed when starting."
   ]
  },
  {
   "cell_type": "code",
   "execution_count": 39,
   "metadata": {},
   "outputs": [],
   "source": [
    "c = m.evolve(com,dt=0.01,tMax_=1000,tSaveStep_=10);"
   ]
  },
  {
   "cell_type": "code",
   "execution_count": 40,
   "metadata": {},
   "outputs": [
    {
     "name": "stdout",
     "output_type": "stream",
     "text": [
      "AbstractFloat[-0.9999999999999787, 9.000000000000021]\n",
      "AbstractFloat[0.0, 0.0]\n"
     ]
    }
   ],
   "source": [
    "println(c[end][:x])\n",
    "println(c[end][:Fx])"
   ]
  },
  {
   "cell_type": "markdown",
   "metadata": {},
   "source": [
    "The cell have moved until they have reached a a neutral force. The distance between them is expected as it is 2 radius apart."
   ]
  },
  {
   "cell_type": "markdown",
   "metadata": {},
   "source": [
    "## Cellular proliferation\n",
    "\n",
    "The next feature that we would like to add is a condition for cell division. For that we will use a special function."
   ]
  },
  {
   "cell_type": "code",
   "execution_count": 41,
   "metadata": {},
   "outputs": [
    {
     "ename": "LoadError",
     "evalue": "Base.Meta.ParseError(\"invalid character \\\"\\a\\\" near column 6\")",
     "output_type": "error",
     "traceback": [
      "Base.Meta.ParseError(\"invalid character \\\"\\a\\\" near column 6\")",
      "",
      "Stacktrace:",
      " [1] parse at ./meta.jl:215 [inlined]",
      " [2] addDivision!(::Model, ::String, ::String; randVar::Array{Tuple{Symbol,Expr},1}) at /home/gabriel/Documents/PhD/3 Simulation/Simulator/AgentBasedModels.jl/src/model/special/division.jl:46",
      " [3] top-level scope at In[41]:46"
     ]
    }
   ],
   "source": [
    "##### Add global\n",
    "addGlobal!(m,[:τdiv,:σdiv,:σx])\n",
    "# Add local\n",
    "addLocal!(m,[:tu])\n",
    "\n",
    "updateCondition = \n",
    "\"\n",
    "t > tu #&& N < 2\n",
    "\"\n",
    "update = \n",
    "\"\n",
    "#Choose a random direction in the sphere\n",
    "xₐ = ξ₁\n",
    "yₐ = ξ₂\n",
    "zₐ = ξ₃\n",
    "Tₐ = sqrt(xₐ^2+yₐ^2+zₐ^2)\n",
    "xₐ /= Tₐ\n",
    "yₐ /= Tₐ\n",
    "zₐ /= Tₐ\n",
    "#Update things of second cell\n",
    "x₂ = xₚ+rₚ*xₐ/2\n",
    "y₂ = yₚ+rₚ*yₐ/2\n",
    "z₂ = zₚ+rₚ*zₐ/2\n",
    "r₂ = rₚ/2. ^(1. /3)\n",
    "m₂ = mₚ/2\n",
    "tu₂ = t + τdiv+σdiv*τdiv*ξ₄\n",
    "xx₂ = xxₚ*(1+σx*ξ₅)\n",
    "#Update things of first cell\n",
    "x₁ = xₚ-rₚ*xₐ/2\n",
    "y₁ = yₚ-rₚ*yₐ/2\n",
    "z₁ = zₚ-rₚ*zₐ/2\n",
    "r₁ = rₚ/2. ^(1. /3)\n",
    "m₁ = mₚ/2\n",
    "tu₁ = t + τdiv + σdiv*τdiv*ξ₆\n",
    "xx₁ = xxₚ*(1-σx*ξ₅)\n",
    "\"\n",
    "randomVars = [\n",
    "    (:ξ₁,:(Normal(0.,1.))),\n",
    "    (:ξ₂,:(Normal(0.,1.))),\n",
    "    (:ξ₃,:(Normal(0.,1.))),\n",
    "    (:ξ₄,:(Uniform(-1.,1.))),\n",
    "    (:ξ₅,:(Uniform(0.,1.))),\n",
    "    (:ξ₆,:(Uniform(-1.,1.)))\n",
    "]\n",
    "addDivision!(m,updateCondition,update,randVar=randomVars)"
   ]
  },
  {
   "cell_type": "markdown",
   "metadata": {},
   "source": [
    "### Testing the model so far\n",
    "\n",
    "In order to check all the parameters we have to add the concentration value xx. For now we will introduce it as a local parameter."
   ]
  },
  {
   "cell_type": "code",
   "execution_count": 12,
   "metadata": {},
   "outputs": [],
   "source": [
    "addLocal!(m,[:xx])"
   ]
  },
  {
   "cell_type": "code",
   "execution_count": 16,
   "metadata": {},
   "outputs": [],
   "source": [
    "compile!(m,platform=\"cpu\",saveRAM=true,debug=false)"
   ]
  },
  {
   "cell_type": "code",
   "execution_count": 17,
   "metadata": {},
   "outputs": [
    {
     "data": {
      "text/plain": [
       "10.0"
      ]
     },
     "execution_count": 17,
     "metadata": {},
     "output_type": "execute_result"
    }
   ],
   "source": [
    "com = Community(m,N=1)\n",
    "\n",
    "##########Mechanics##############################\n",
    "#Initialise global\n",
    "com[:b] = 10^-6\n",
    "com[:F₀] = 10^-4\n",
    "com[:μ] = 2\n",
    "\n",
    "#########Division#################################\n",
    "#Initialise global\n",
    "com[:τdiv] = 10\n",
    "com[:σdiv] = 0.5\n",
    "com[:σx] = 0.01\n",
    "\n",
    "#########Local parameters and variables###########\n",
    "#Initialise locals\n",
    "mᵢ = 10^-6\n",
    "rᵢ = 5\n",
    "com[:m] = mᵢ\n",
    "com[:r] = rᵢ\n",
    "#Initialise variables\n",
    "com[:x] = 0. #They are only separed in this axis\n",
    "com[:y] = 0.\n",
    "com[:z] = 0.\n",
    "com[:vx] = 0.\n",
    "com[:vy] = 0.\n",
    "com[:vz] = 0.\n",
    "\n",
    "#com[:xx] = 1.\n",
    "com[:tu] = 10."
   ]
  },
  {
   "cell_type": "code",
   "execution_count": 18,
   "metadata": {},
   "outputs": [],
   "source": [
    "c = m.evolve(com,dt=0.001,tMax_=40,tSaveStep_=1,nMax_=1000);"
   ]
  },
  {
   "cell_type": "markdown",
   "metadata": {},
   "source": [
    "The cells are dividing without escaping the potential for a reasonable time of evolution."
   ]
  },
  {
   "cell_type": "code",
   "execution_count": 19,
   "metadata": {},
   "outputs": [
    {
     "data": {
      "text/plain": [
       "GLMakie.Screen(...)"
      ]
     },
     "execution_count": 19,
     "metadata": {},
     "output_type": "execute_result"
    }
   ],
   "source": [
    "t = length(c)\n",
    "x = c[t][:x]\n",
    "y = c[t][:y]\n",
    "z = c[t][:z]\n",
    "col = rand(length(x))\n",
    "#col = \n",
    "fig = meshscatter(x,y,z,markersize=2.5,color=col)\n",
    "display(fig)"
   ]
  },
  {
   "cell_type": "markdown",
   "metadata": {},
   "source": [
    "## Chemical part"
   ]
  },
  {
   "cell_type": "markdown",
   "metadata": {},
   "source": [
    "The model follows a noise reduced equation of the form:\n",
    "\n",
    "$$\\frac{dx_i}{dt}=t_{on} t_{off}\\left(\\frac{α(1+x^n_i)^m}{(1+x^n_i)^m+(1+(\\langle x\\rangle_i)/K)^{2m}}-x_i\\right)$$\n",
    "\n",
    "This is similar to the above case. The only detail required is to note that the average expression can be modeled as the combination of two interacting variables. The parameters $t_{on}$ and $t_{off}$ are parameters that activate and deactivate the network model.\n",
    "\n",
    "$$N_{ij}=\n",
    "\\begin{cases}\n",
    "1\\hspace{1cm}d<f_{range}r_{ij}\\\\\n",
    "0\\hspace{1cm}otherwise\n",
    "\\end{cases}\n",
    "$$\n",
    "\n",
    "$$X_{ij}=\n",
    "\\begin{cases}\n",
    "x_j\\hspace{1cm}d<f_{range}r_{ij}\\\\\n",
    "0\\hspace{1cm}otherwise\n",
    "\\end{cases}\n",
    "$$\n",
    "\n",
    "$$\\langle x\\rangle_i=\\frac{\\sum_j X_{ij}}{\\sum_j N_{ij}}$$\n",
    "\n",
    "We can straighforwardly implement the model."
   ]
  },
  {
   "cell_type": "code",
   "execution_count": 16,
   "metadata": {},
   "outputs": [],
   "source": [
    "# Add global variables\n",
    "update = \n",
    "\"\n",
    "if N > Ncirc\n",
    "    ton = 1\n",
    "else\n",
    "    ton = 0\n",
    "end\n",
    "\"\n",
    "abm.addGlobal!(m,[:ton,:Ncirc,:fmin,:fmax,:α,:n,:mm,:K,:frange],updates=update)\n",
    "\n",
    "# Add local parameters\n",
    "update = \n",
    "\"\n",
    "if x > fmax\n",
    "    toff = 0\n",
    "    fate = 1\n",
    "elseif x < fmin\n",
    "    toff = 1\n",
    "    fate = -1\n",
    "end\n",
    "\"\n",
    "abm.addLocal!(m,[:toff,:fate],updates=update)\n",
    "\n",
    "# Add interaction\n",
    "interaction=\n",
    "\"\n",
    "if dₐ < frange*rrₐ #We can ommit the else\n",
    "    NN₁ += 1\n",
    "    X₁ += x₂\n",
    "end \n",
    "\"\n",
    "abm.addInteraction!(m,[:NN,:X],interaction)\n",
    "\n",
    "# Add variable\n",
    "eqs = \n",
    "\"\n",
    "dxxdt = ton*toff*(α*(1+x^n)^mm/((1+x^n)^mm+(1+(X/NN)/K)^(2mm))-x)\n",
    "\"\n",
    "abm.addVariable!(m,[:xx],eqs)"
   ]
  },
  {
   "cell_type": "markdown",
   "metadata": {},
   "source": [
    "### Test final model"
   ]
  },
  {
   "cell_type": "code",
   "execution_count": 17,
   "metadata": {},
   "outputs": [],
   "source": [
    "compile!(m,platform=\"cpu\",saveRAM=true,saveVTK=false,positionsVTK=[:x,:y,:z],debug=false)"
   ]
  },
  {
   "cell_type": "code",
   "execution_count": 18,
   "metadata": {},
   "outputs": [
    {
     "data": {
      "text/plain": [
       "10.0"
      ]
     },
     "execution_count": 18,
     "metadata": {},
     "output_type": "execute_result"
    }
   ],
   "source": [
    "com = Community(m,N=1)\n",
    "\n",
    "##########Mechanics##############################\n",
    "#Initialise global\n",
    "com[:b] = 10^-6\n",
    "com[:F₀] = 10^-4\n",
    "com[:μ] = 2\n",
    "\n",
    "#########Division#################################\n",
    "#Initialise global\n",
    "com[:τdiv] = 10\n",
    "com[:σdiv] = 0.5\n",
    "com[:σx] = 0.01\n",
    "\n",
    "#########Chemical#################################\n",
    "#Initialise Global\n",
    "com[:ton] = 0 #Start deactivated\n",
    "com[:Ncirc] = 20\n",
    "com[:fmin] = 0.05\n",
    "com[:fmax] = 0.95\n",
    "com[:α] = 10\n",
    "com[:n] = 2\n",
    "com[:mm] = 2\n",
    "com[:K] = 0.9\n",
    "com[:frange] = 1.2\n",
    "\n",
    "#########Local parameters and variables###########\n",
    "#Initialise locals\n",
    "mᵢ = 10^-6\n",
    "rᵢ = 5\n",
    "com[:m] = mᵢ\n",
    "com[:r] = rᵢ\n",
    "com[:toff] = 1 #Start activated\n",
    "com[:fate] = 0 #Start neutral fate\n",
    "#Initialise variables\n",
    "com[:x] = 0. #They are only separed in this axis\n",
    "com[:y] = 0.\n",
    "com[:z] = 0.\n",
    "com[:vx] = 0.\n",
    "com[:vy] = 0.\n",
    "com[:vz] = 0.\n",
    "\n",
    "x₀=3.\n",
    "com[:xx] = x₀\n",
    "com[:tu] = 10."
   ]
  },
  {
   "cell_type": "code",
   "execution_count": 19,
   "metadata": {},
   "outputs": [],
   "source": [
    "c = m.evolve(com,dt=0.001,tMax_=60,tSaveStep_=1,nMax_=1000);"
   ]
  },
  {
   "cell_type": "code",
   "execution_count": 20,
   "metadata": {},
   "outputs": [],
   "source": [
    "c[last][:xx];"
   ]
  },
  {
   "cell_type": "markdown",
   "metadata": {},
   "source": [
    "## Visualization"
   ]
  },
  {
   "cell_type": "markdown",
   "metadata": {},
   "source": [
    "### Plot community"
   ]
  },
  {
   "cell_type": "code",
   "execution_count": 21,
   "metadata": {},
   "outputs": [
    {
     "data": {
      "text/plain": [
       "GLMakie.Screen(...)"
      ]
     },
     "execution_count": 21,
     "metadata": {},
     "output_type": "execute_result"
    }
   ],
   "source": [
    "figure = plotCommunitySpheres(c[50],[:x,:y,:z],:r,:fate)\n",
    "display(figure)"
   ]
  },
  {
   "cell_type": "markdown",
   "metadata": {},
   "source": [
    "### Make video"
   ]
  },
  {
   "cell_type": "code",
   "execution_count": 22,
   "metadata": {},
   "outputs": [],
   "source": [
    "using Makie\n",
    "using AbstractPlotting"
   ]
  },
  {
   "cell_type": "code",
   "execution_count": 40,
   "metadata": {},
   "outputs": [
    {
     "data": {
      "text/plain": [
       "plotDivisionTree (generic function with 2 methods)"
      ]
     },
     "execution_count": 40,
     "metadata": {},
     "output_type": "execute_result"
    }
   ],
   "source": []
  },
  {
   "cell_type": "code",
   "execution_count": 44,
   "metadata": {},
   "outputs": [
    {
     "ename": "LoadError",
     "evalue": "MethodError: no method matching names(::Dict{Symbol,Int64})\nClosest candidates are:\n  names(!Matched::DataFrames.Index) at /home/gabriel/.julia/packages/DataFrames/Zx5mm/src/other/index.jl:34\n  names(!Matched::Module; all, imported) at reflection.jl:98\n  names(!Matched::DataFrames.SubIndex) at /home/gabriel/.julia/packages/DataFrames/Zx5mm/src/other/index.jl:425\n  ...",
     "output_type": "error",
     "traceback": [
      "MethodError: no method matching names(::Dict{Symbol,Int64})\nClosest candidates are:\n  names(!Matched::DataFrames.Index) at /home/gabriel/.julia/packages/DataFrames/Zx5mm/src/other/index.jl:34\n  names(!Matched::Module; all, imported) at reflection.jl:98\n  names(!Matched::DataFrames.SubIndex) at /home/gabriel/.julia/packages/DataFrames/Zx5mm/src/other/index.jl:425\n  ...",
      "",
      "Stacktrace:",
      " [1] top-level scope at In[44]:1"
     ]
    }
   ],
   "source": [
    "names(Dict([:a=>1]))"
   ]
  },
  {
   "cell_type": "code",
   "execution_count": 41,
   "metadata": {},
   "outputs": [
    {
     "ename": "LoadError",
     "evalue": "UndefVarError: key not defined",
     "output_type": "error",
     "traceback": [
      "UndefVarError: key not defined",
      "",
      "Stacktrace:",
      " [1] plotDivisionTree(::CommunityInTime, ::Symbol, ::String) at ./In[40]:23",
      " [2] plotDivisionTree(::CommunityInTime, ::Symbol) at ./In[40]:9",
      " [3] top-level scope at In[41]:1"
     ]
    }
   ],
   "source": [
    "figure = plotDivisionTree(c,:fate)\n",
    "display(figure)"
   ]
  },
  {
   "cell_type": "code",
   "execution_count": null,
   "metadata": {},
   "outputs": [],
   "source": []
  }
 ],
 "metadata": {
  "kernelspec": {
   "display_name": "Julia 1.5.3",
   "language": "julia",
   "name": "julia-1.5"
  },
  "language_info": {
   "file_extension": ".jl",
   "mimetype": "application/julia",
   "name": "julia",
   "version": "1.5.3"
  },
  "toc": {
   "base_numbering": 1,
   "nav_menu": {},
   "number_sections": true,
   "sideBar": true,
   "skip_h1_title": false,
   "title_cell": "Table of Contents",
   "title_sidebar": "Contents",
   "toc_cell": false,
   "toc_position": {
    "height": "calc(100% - 180px)",
    "left": "10px",
    "top": "150px",
    "width": "336px"
   },
   "toc_section_display": true,
   "toc_window_display": true
  }
 },
 "nbformat": 4,
 "nbformat_minor": 4
}
