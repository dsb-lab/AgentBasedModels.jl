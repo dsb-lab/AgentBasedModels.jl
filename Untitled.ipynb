{
 "cells": [
  {
   "cell_type": "code",
   "execution_count": 1,
   "metadata": {},
   "outputs": [
    {
     "data": {
      "text/plain": [
       "4-element Array{String,1}:\n",
       " \"@\"\n",
       " \"@v#.#\"\n",
       " \"@stdlib\"\n",
       " \"./\""
      ]
     },
     "execution_count": 1,
     "metadata": {},
     "output_type": "execute_result"
    }
   ],
   "source": [
    "push!(LOAD_PATH,\"./\")"
   ]
  },
  {
   "cell_type": "code",
   "execution_count": 2,
   "metadata": {},
   "outputs": [
    {
     "name": "stderr",
     "output_type": "stream",
     "text": [
      "┌ Info: Precompiling CellCommunity [top-level]\n",
      "└ @ Base loading.jl:1278\n",
      "ERROR: LoadError: syntax: incomplete: \"function\" at /home/gabriel/Documents/PhD/3 Simulation/embryogenesisJulia/CellCommunity.jl:21 requires end\n",
      "Stacktrace:\n",
      " [1] top-level scope at /home/gabriel/Documents/PhD/3 Simulation/embryogenesisJulia/CellCommunity.jl:1\n",
      " [2] top-level scope at none:2\n",
      " [3] eval at ./boot.jl:331 [inlined]\n",
      "in expression starting at /home/gabriel/Documents/PhD/3 Simulation/embryogenesisJulia/CellCommunity.jl:1\n"
     ]
    },
    {
     "ename": "LoadError",
     "evalue": "Failed to precompile CellCommunity [top-level] to /home/gabriel/.julia/compiled/v1.5/CellCommunity.ji.",
     "output_type": "error",
     "traceback": [
      "Failed to precompile CellCommunity [top-level] to /home/gabriel/.julia/compiled/v1.5/CellCommunity.ji.",
      "",
      "Stacktrace:",
      " [1] compilecache(::Base.PkgId, ::String) at ./loading.jl:1305",
      " [2] _require(::Base.PkgId) at ./loading.jl:1030",
      " [3] require(::Base.PkgId) at ./loading.jl:928",
      " [4] require(::Module, ::Symbol) at ./loading.jl:923"
     ]
    }
   ],
   "source": [
    "import CellCommunity"
   ]
  },
  {
   "cell_type": "code",
   "execution_count": 3,
   "metadata": {},
   "outputs": [
    {
     "data": {
      "text/plain": [
       "f (generic function with 1 method)"
      ]
     },
     "execution_count": 3,
     "metadata": {},
     "output_type": "execute_result"
    }
   ],
   "source": [
    "function f(a)\n",
    "    a += 1\n",
    "end"
   ]
  },
  {
   "cell_type": "code",
   "execution_count": 13,
   "metadata": {},
   "outputs": [
    {
     "ename": "LoadError",
     "evalue": "MethodError: no method matching +(::Array{Int64,1}, ::Int64)\nFor element-wise addition, use broadcasting with dot syntax: array .+ scalar\nClosest candidates are:\n  +(::Any, ::Any, !Matched::Any, !Matched::Any...) at operators.jl:538\n  +(!Matched::Base.CoreLogging.LogLevel, ::Integer) at logging.jl:116\n  +(!Matched::Missing, ::Number) at missing.jl:115\n  ...",
     "output_type": "error",
     "traceback": [
      "MethodError: no method matching +(::Array{Int64,1}, ::Int64)\nFor element-wise addition, use broadcasting with dot syntax: array .+ scalar\nClosest candidates are:\n  +(::Any, ::Any, !Matched::Any, !Matched::Any...) at operators.jl:538\n  +(!Matched::Base.CoreLogging.LogLevel, ::Integer) at logging.jl:116\n  +(!Matched::Missing, ::Number) at missing.jl:115\n  ...",
      "",
      "Stacktrace:",
      " [1] top-level scope at In[13]:2"
     ]
    }
   ],
   "source": [
    "a = [1,2,3]\n",
    "a = [1,2,3]+2"
   ]
  },
  {
   "cell_type": "code",
   "execution_count": 7,
   "metadata": {},
   "outputs": [
    {
     "data": {
      "text/plain": [
       "3-element Array{Int64,1}:\n",
       " 2\n",
       " 3\n",
       " 4"
      ]
     },
     "execution_count": 7,
     "metadata": {},
     "output_type": "execute_result"
    }
   ],
   "source": [
    "f.(a)"
   ]
  },
  {
   "cell_type": "code",
   "execution_count": 16,
   "metadata": {},
   "outputs": [
    {
     "name": "stderr",
     "output_type": "stream",
     "text": [
      "┌ Info: Precompiling DifferentialEquations [0c46a032-eb83-5123-abaf-570d42b7fbaa]\n",
      "└ @ Base loading.jl:1278\n"
     ]
    }
   ],
   "source": [
    "using DifferentialEquations"
   ]
  },
  {
   "cell_type": "code",
   "execution_count": 23,
   "metadata": {},
   "outputs": [
    {
     "data": {
      "text/plain": [
       "RK4()"
      ]
     },
     "execution_count": 23,
     "metadata": {},
     "output_type": "execute_result"
    }
   ],
   "source": [
    "RK4()"
   ]
  },
  {
   "cell_type": "code",
   "execution_count": 35,
   "metadata": {},
   "outputs": [
    {
     "data": {
      "text/plain": [
       "RK4()"
      ]
     },
     "execution_count": 35,
     "metadata": {},
     "output_type": "execute_result"
    }
   ],
   "source": [
    "function f(u,dt)\n",
    "   u*dt \n",
    "end\n",
    "\n",
    "\n",
    "a = RK4()"
   ]
  },
  {
   "cell_type": "code",
   "execution_count": 48,
   "metadata": {},
   "outputs": [
    {
     "data": {
      "text/plain": [
       "1×8 Array{Int64,2}:\n",
       " 1  2  3  4  1  2  3  4"
      ]
     },
     "execution_count": 48,
     "metadata": {},
     "output_type": "execute_result"
    }
   ],
   "source": [
    "a = [1 2 3 4]\n",
    "[a a]"
   ]
  },
  {
   "cell_type": "code",
   "execution_count": 44,
   "metadata": {},
   "outputs": [
    {
     "ename": "LoadError",
     "evalue": "ArgumentError: invalid index: 2.0 of type Float64",
     "output_type": "error",
     "traceback": [
      "ArgumentError: invalid index: 2.0 of type Float64",
      "",
      "Stacktrace:",
      " [1] to_index(::Float64) at ./indices.jl:297",
      " [2] to_index(::Array{Int64,2}, ::Float64) at ./indices.jl:274",
      " [3] to_indices at ./indices.jl:325 [inlined]",
      " [4] to_indices at ./indices.jl:322 [inlined]",
      " [5] getindex at ./abstractarray.jl:1060 [inlined]",
      " [6] macro expansion at ./multidimensional.jl:772 [inlined]",
      " [7] macro expansion at ./cartesian.jl:64 [inlined]",
      " [8] macro expansion at ./multidimensional.jl:767 [inlined]",
      " [9] _unsafe_getindex! at ./multidimensional.jl:762 [inlined]",
      " [10] _unsafe_getindex at ./multidimensional.jl:757 [inlined]",
      " [11] _getindex at ./multidimensional.jl:743 [inlined]",
      " [12] getindex(::Array{Int64,2}, ::StepRangeLen{Float64,Base.TwicePrecision{Float64},Base.TwicePrecision{Float64}}) at ./abstractarray.jl:1060",
      " [13] top-level scope at In[44]:1"
     ]
    }
   ],
   "source": [
    "a[round(length(a)/2):end]"
   ]
  },
  {
   "cell_type": "code",
   "execution_count": 50,
   "metadata": {},
   "outputs": [
    {
     "data": {
      "text/latex": [
       "2"
      ],
      "text/plain": [
       "2"
      ]
     },
     "execution_count": 50,
     "metadata": {},
     "output_type": "execute_result"
    }
   ],
   "source": [
    "Int(length(a)/2)"
   ]
  },
  {
   "cell_type": "code",
   "execution_count": null,
   "metadata": {},
   "outputs": [],
   "source": []
  }
 ],
 "metadata": {
  "kernelspec": {
   "display_name": "Julia 1.5.0",
   "language": "julia",
   "name": "julia-1.5"
  },
  "language_info": {
   "file_extension": ".jl",
   "mimetype": "application/julia",
   "name": "julia",
   "version": "1.5.1"
  },
  "toc": {
   "base_numbering": 1,
   "nav_menu": {},
   "number_sections": true,
   "sideBar": true,
   "skip_h1_title": false,
   "title_cell": "Table of Contents",
   "title_sidebar": "Contents",
   "toc_cell": false,
   "toc_position": {},
   "toc_section_display": true,
   "toc_window_display": false
  }
 },
 "nbformat": 4,
 "nbformat_minor": 4
}
