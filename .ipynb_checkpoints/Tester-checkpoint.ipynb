{
 "cells": [
  {
   "cell_type": "code",
   "execution_count": 1,
   "metadata": {},
   "outputs": [
    {
     "data": {
      "text/plain": [
       "4-element Array{String,1}:\n",
       " \"@\"\n",
       " \"@v#.#\"\n",
       " \"@stdlib\"\n",
       " \"./\""
      ]
     },
     "execution_count": 1,
     "metadata": {},
     "output_type": "execute_result"
    }
   ],
   "source": [
    "push!(LOAD_PATH,\"./\")"
   ]
  },
  {
   "cell_type": "code",
   "execution_count": 2,
   "metadata": {},
   "outputs": [
    {
     "name": "stderr",
     "output_type": "stream",
     "text": [
      "┌ Info: Precompiling CellStruct [top-level]\n",
      "└ @ Base loading.jl:1278\n",
      "┌ Info: Precompiling CellCommunity [top-level]\n",
      "└ @ Base loading.jl:1278\n"
     ]
    }
   ],
   "source": [
    "import CellStruct\n",
    "import CellCommunity"
   ]
  },
  {
   "cell_type": "code",
   "execution_count": 3,
   "metadata": {},
   "outputs": [],
   "source": [
    "cells = CellCommunity.cellCommunity(2,2,2,10);"
   ]
  },
  {
   "cell_type": "code",
   "execution_count": 4,
   "metadata": {},
   "outputs": [
    {
     "name": "stdout",
     "output_type": "stream",
     "text": [
      "0.65360093\n",
      "0.80012304\n",
      "0.59099954\n",
      "0.6878123\n",
      "0.22340639\n",
      "0.1779578\n",
      "0.95374477\n",
      "0.8075558\n",
      "0.6129963\n",
      "0.01825699\n"
     ]
    }
   ],
   "source": [
    "for i in 1:10\n",
    "    cells.cells[i].radius = rand()\n",
    "    println(cells.cells[i].radius)\n",
    "end"
   ]
  },
  {
   "cell_type": "code",
   "execution_count": 5,
   "metadata": {},
   "outputs": [
    {
     "data": {
      "text/plain": [
       "50"
      ]
     },
     "execution_count": 5,
     "metadata": {},
     "output_type": "execute_result"
    }
   ],
   "source": [
    "cells.cells[5].radius = 50"
   ]
  },
  {
   "cell_type": "code",
   "execution_count": 7,
   "metadata": {},
   "outputs": [
    {
     "name": "stdout",
     "output_type": "stream",
     "text": [
      "0.1779578\n",
      "0.6878123\n",
      "50.0\n",
      "0.6878123\n",
      "0.65360093\n",
      "0.1779578\n",
      "50.0\n",
      "0.8075558\n",
      "0.59099954\n",
      "0.59099954\n"
     ]
    }
   ],
   "source": [
    "for i in 1:5\n",
    "    a = CellCommunity.growCluster(cells)\n",
    "end"
   ]
  },
  {
   "cell_type": "code",
   "execution_count": null,
   "metadata": {},
   "outputs": [],
   "source": [
    "for i in 1:10\n",
    "    println(cells.cells[i].radius)\n",
    "end"
   ]
  }
 ],
 "metadata": {
  "kernelspec": {
   "display_name": "Julia 1.5.1",
   "language": "julia",
   "name": "julia-1.5"
  },
  "language_info": {
   "file_extension": ".jl",
   "mimetype": "application/julia",
   "name": "julia",
   "version": "1.5.1"
  }
 },
 "nbformat": 4,
 "nbformat_minor": 4
}
