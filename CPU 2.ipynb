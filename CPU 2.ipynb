{
 "cells": [
  {
   "cell_type": "code",
   "execution_count": 647,
   "metadata": {},
   "outputs": [],
   "source": [
    "using Random, Distributions\n",
    "using PyPlot#Plots#, PlotlyJS\n",
    "using CSV\n",
    "using DataFrames"
   ]
  },
  {
   "cell_type": "markdown",
   "metadata": {},
   "source": [
    "# Define parameters of Jordi's paper"
   ]
  },
  {
   "cell_type": "code",
   "execution_count": 648,
   "metadata": {},
   "outputs": [
    {
     "data": {
      "text/plain": [
       "1-element Array{Float64,1}:\n",
       " 2.0"
      ]
     },
     "execution_count": 648,
     "metadata": {},
     "output_type": "execute_result"
    }
   ],
   "source": [
    "#List cell parameters\n",
    "cellJordi = DataFrame()\n",
    "cellJordi.\"x\" = AbstractFloat[]\n",
    "cellJordi.\"xNeigh\" = AbstractFloat[]\n",
    "cellJordi.\"x1\" = AbstractFloat[]\n",
    "cellJordi.\"x2\" = AbstractFloat[]\n",
    "cellJordi.\"x3\" = AbstractFloat[]\n",
    "cellJordi.\"v1\" = AbstractFloat[]\n",
    "cellJordi.\"v2\" = AbstractFloat[]\n",
    "cellJordi.\"v3\" = AbstractFloat[]\n",
    "cellJordi.\"f1\" = AbstractFloat[]\n",
    "cellJordi.\"f2\" = AbstractFloat[]\n",
    "cellJordi.\"f3\" = AbstractFloat[]\n",
    "cellJordi.\"r\" = AbstractFloat[]\n",
    "cellJordi.\"m\" = AbstractFloat[]\n",
    "cellJordi.\"divTime\" = AbstractFloat[]\n",
    "#It is not necewssary to include the num of neighbours if your do not want to, that is defined during the neighbours declaration\n",
    "\n",
    "#List of community parameters\n",
    "communityJordi = DataFrame()\n",
    "communityJordi.\"α\" = [10.]\n",
    "communityJordi.\"K\" = [0.9]\n",
    "communityJordi.\"n\" = [2.]\n",
    "communityJordi.\"m\" = [2.]\n",
    "communityJordi.\"fRange\" = [1.2]\n",
    "communityJordi.\"mInitial\" = [10^-6.]\n",
    "communityJordi.\"rInitial\" = [5.]\n",
    "communityJordi.\"b\" = [10^-6.]\n",
    "communityJordi.\"K0\" = [10^-4.]\n",
    "communityJordi.\"fAdh\" = [1.5]\n",
    "communityJordi.\"μ\" = [2.]\n",
    "communityJordi.\"τDiv\" = [10.]\n",
    "communityJordi.\"σDiv\" = [0.5]\n",
    "communityJordi.\"x0\" = [3.]\n",
    "communityJordi.\"σX\" = [0.01]\n",
    "communityJordi.\"Ncirc\" = [20.]\n",
    "communityJordi.\"σNCirc\" = [0.1]\n",
    "communityJordi.\"fMin\" = [0.05]\n",
    "communityJordi.\"fMax\" = [0.95]\n",
    "communityJordi.\"fPre\" = [0.2]\n",
    "communityJordi.\"fEpi\" = [0.8]\n",
    "communityJordi.\"τCirc\" = [45.]\n",
    "communityJordi.\"στCirc\" = [0.02]\n",
    "communityJordi.\"rESC\" = [2.]\n",
    "#Not necessary to be defined the number of cells that you have"
   ]
  },
  {
   "cell_type": "markdown",
   "metadata": {},
   "source": [
    "# Dynamics"
   ]
  },
  {
   "cell_type": "code",
   "execution_count": 649,
   "metadata": {},
   "outputs": [],
   "source": [
    "mutable struct Dynamics\n",
    "    variables::Array{String}\n",
    "    f\n",
    "    integrator\n",
    "    activationCondition\n",
    "    deactivationCondition\n",
    "end"
   ]
  },
  {
   "cell_type": "code",
   "execution_count": 650,
   "metadata": {},
   "outputs": [
    {
     "data": {
      "text/plain": [
       "rungeKutta4 (generic function with 1 method)"
      ]
     },
     "execution_count": 650,
     "metadata": {},
     "output_type": "execute_result"
    }
   ],
   "source": [
    "#Integrators\n",
    "function rungeKutta4(variables,f::Function,t,dt,cell,glob)\n",
    "    k0 = [cell[i] for i in variables]\n",
    "    k1 = f(k0,t,cell,glob)\n",
    "    k2 = f(k0+0.5*k1*dt,t+0.5*dt,cell,glob)\n",
    "    k3 = f(k0+0.5*k2*dt,t+0.5*dt,cell,glob)\n",
    "    k4 = f(k0+k3*dt,t+dt,cell,glob)\n",
    "    return k0+(k1+2*k2+2*k3+k4)*dt/6\n",
    "end\n",
    "\n",
    "function heuns(variables,f::Function,t,dt,cell,glob)\n",
    "    k0 = [cell[i] for i in variables]\n",
    "    k1 = f(k0,t,cell,glob)\n",
    "    k2 = f(k0+k1*dt,t+dt,cell,glob)\n",
    "    return k0+(k1+k2)*dt/2\n",
    "end"
   ]
  },
  {
   "cell_type": "code",
   "execution_count": 651,
   "metadata": {},
   "outputs": [
    {
     "data": {
      "text/plain": [
       "Dynamics([\"v1\", \"v2\", \"v3\", \"x1\", \"x2\", \"x3\"], mechanics, rungeKutta4, Nothing, Nothing)"
      ]
     },
     "execution_count": 651,
     "metadata": {},
     "output_type": "execute_result"
    }
   ],
   "source": [
    "#Mechanics of jordi's paper\n",
    "variablesMechanics = [\"v1\",\"v2\",\"v3\",\"x1\",\"x2\",\"x3\"]\n",
    "function mechanics(vars,t,cell,glob)\n",
    "    v1,v2,v3,x1,x2,x3 = vars\n",
    "    dv1dt = (-glob[\"b\"]*v1+cell[\"f1\"])/cell[\"m\"]\n",
    "    dv2dt = (-glob[\"b\"]*v2+cell[\"f2\"])/cell[\"m\"]\n",
    "    dv3dt = (-glob[\"b\"]*v3+cell[\"f3\"])/cell[\"m\"]\n",
    "    dx1dt = v1\n",
    "    dx2dt = v2\n",
    "    dx3dt = v3\n",
    "    return [dv1dt,dv2dt,dv3dt,dx1dt,dx2dt,dx3dt]\n",
    "end\n",
    "\n",
    "mechanicsJordi = Dynamics(variablesMechanics,mechanics,rungeKutta4,Nothing,Nothing)"
   ]
  },
  {
   "cell_type": "code",
   "execution_count": 652,
   "metadata": {},
   "outputs": [
    {
     "data": {
      "text/plain": [
       "Dynamics([\"x\"], biochemistry, rungeKutta4, Nothing, Nothing)"
      ]
     },
     "execution_count": 652,
     "metadata": {},
     "output_type": "execute_result"
    }
   ],
   "source": [
    "#Biochemistry of jordi's paper\n",
    "#Dynamics\n",
    "variablesBiochemistry = [\"x\"]\n",
    "function biochemistry(vars,t,cell,glob)\n",
    "    x, = vars\n",
    "    dxdt = glob[\"α\"]*(1+x^glob[\"n\"])^glob[\"m\"]/((1+x^glob[\"n\"])^glob[\"m\"]+(cell[\"xNeigh\"]^glob[\"n\"]/glob[\"K\"])^(2*glob[\"m\"]))-x\n",
    "    return [dxdt]\n",
    "end\n",
    "\n",
    "biochemicsJordi = Dynamics(variablesBiochemistry,biochemistry,rungeKutta4, Nothing, Nothing)"
   ]
  },
  {
   "cell_type": "markdown",
   "metadata": {},
   "source": [
    "# Cell-Cell interactions"
   ]
  },
  {
   "cell_type": "code",
   "execution_count": 653,
   "metadata": {},
   "outputs": [],
   "source": [
    "mutable struct CellCell\n",
    "    variables::Array{String}\n",
    "    context::Array{String}\n",
    "    f\n",
    "    fContext\n",
    "    neighboursCondition\n",
    "    activationCondition\n",
    "    deactivationCondition\n",
    "end"
   ]
  },
  {
   "cell_type": "code",
   "execution_count": 654,
   "metadata": {},
   "outputs": [
    {
     "data": {
      "image/png": "[encoded data removed]",
      "text/plain": [
       "Figure(PyObject <Figure size 640x480 with 1 Axes>)"
      ]
     },
     "metadata": {},
     "output_type": "display_data"
    }
   ],
   "source": [
    "x = 4:0.01:2.5*abm.community.glob[\"μ\"]\n",
    "plot(x,[abm.community.glob[\"K0\"]*(5/i-1)*(abm.community.glob[\"μ\"]*5/i-1) for i in x])\n",
    "grid()"
   ]
  },
  {
   "cell_type": "code",
   "execution_count": 655,
   "metadata": {},
   "outputs": [
    {
     "data": {
      "text/plain": [
       "CellCell([\"f1\", \"f2\", \"f3\"], String[], force, Nothing, neighboursForce, Nothing, Nothing)"
      ]
     },
     "execution_count": 655,
     "metadata": {},
     "output_type": "execute_result"
    }
   ],
   "source": [
    "parametersForce = [\"f1\",\"f2\",\"f3\"]\n",
    "function force(cell1,cell2,pos1,pos2,t,glob,neighboursN,neighboursList)\n",
    "    if pos1 != pos2\n",
    "        rij = cell1[\"r\"]+cell2[\"r\"]\n",
    "        d = sqrt((cell1[\"x1\"]-cell2[\"x1\"])^2+(cell1[\"x2\"]-cell2[\"x2\"])^2+(cell1[\"x3\"]-cell2[\"x3\"])^2)\n",
    "        return glob[\"K0\"]*(rij/d-1)*(glob[\"μ\"]*rij/d-1)/d.*[cell1[\"x1\"]-cell2[\"x1\"],cell1[\"x2\"]-cell2[\"x2\"],cell1[\"x3\"]-cell2[\"x3\"]]\n",
    "    else\n",
    "        return 0.\n",
    "    end\n",
    "end\n",
    "function neighboursForce(cell1,cell2,pos1,pos2,t,glob)\n",
    "    rij = cell1[\"r\"]+cell2[\"r\"]\n",
    "    d = sqrt((cell1[\"x1\"]-cell2[\"x1\"])^2+(cell1[\"x2\"]-cell2[\"x2\"])^2+(cell1[\"x3\"]-cell2[\"x3\"])^2)\n",
    "    if d < glob[\"μ\"]*rij\n",
    "        return true\n",
    "    else\n",
    "        return false\n",
    "    end\n",
    "end\n",
    "\n",
    "cellCellMechanicsJordi = CellCell(parametersForce,[],force,Nothing,neighboursForce,Nothing,Nothing)"
   ]
  },
  {
   "cell_type": "code",
   "execution_count": 656,
   "metadata": {},
   "outputs": [
    {
     "data": {
      "text/plain": [
       "CellCell([\"xNeigh\"], String[], diffussion, Nothing, neighboursDiffusion, Nothing, Nothing)"
      ]
     },
     "execution_count": 656,
     "metadata": {},
     "output_type": "execute_result"
    }
   ],
   "source": [
    "parametersBiochem = [\"xNeigh\"]\n",
    "function diffussion(cell1,cell2,pos1,pos2,t,glob,neighboursN,neighboursList)\n",
    "    return cell2[\"x\"]/neighboursN\n",
    "end\n",
    "function neighboursDiffusion(cell1,cell2,pos1,pos2,t,glob)\n",
    "    rij = cell1[\"r\"]+cell2[\"r\"]\n",
    "    d = sqrt((cell1[\"x1\"]-cell2[\"x1\"])^2+(cell1[\"x2\"]-cell2[\"x2\"])^2+(cell1[\"x3\"]-cell2[\"x3\"])^2)\n",
    "    if d < glob[\"fRange\"]*rij\n",
    "        return true\n",
    "    else\n",
    "        return false\n",
    "    end\n",
    "end\n",
    "\n",
    "cellCellBiochemJordi = CellCell(parametersBiochem,[],diffussion,Nothing,neighboursDiffusion,Nothing,Nothing)"
   ]
  },
  {
   "cell_type": "markdown",
   "metadata": {},
   "source": [
    "# Division"
   ]
  },
  {
   "cell_type": "code",
   "execution_count": 657,
   "metadata": {},
   "outputs": [],
   "source": [
    "mutable struct Division\n",
    "    variables::Array{String}\n",
    "    f\n",
    "    divisionCondition\n",
    "    activationCondition\n",
    "    deactivationCondition\n",
    "end"
   ]
  },
  {
   "cell_type": "code",
   "execution_count": 658,
   "metadata": {},
   "outputs": [
    {
     "data": {
      "text/plain": [
       "Division([\"r\", \"m\", \"x1\", \"x2\", \"x3\", \"divTime\"], division, divisionCondition, Nothing, Nothing)"
      ]
     },
     "execution_count": 658,
     "metadata": {},
     "output_type": "execute_result"
    }
   ],
   "source": [
    "#Division\n",
    "parametersDivision = [\"r\",\"m\",\"x1\",\"x2\",\"x3\",\"divTime\"]\n",
    "function division(cellP,cellD1,cellD2,t,glob)\n",
    "    #Update radius\n",
    "    cellD1[\"r\"] = cellP[\"r\"]/2^(1/3)\n",
    "    cellD2[\"r\"] = cellP[\"r\"]/2^(1/3)\n",
    "    #Update mass\n",
    "    cellD1[\"m\"] = cellP[\"m\"]/2\n",
    "    cellD2[\"m\"] = cellP[\"m\"]/2\n",
    "    #Update pos\n",
    "    axis = rand(Normal(0,1),3)\n",
    "    axis = axis/sum(axis)\n",
    "    cellD1[\"x1\"] = cellP[\"x1\"]+axis[1]*cellP[\"r\"]/2\n",
    "    cellD1[\"x2\"] = cellP[\"x2\"]+axis[2]*cellP[\"r\"]/2\n",
    "    cellD1[\"x3\"] = cellP[\"x3\"]+axis[3]*cellP[\"r\"]/2\n",
    "    cellD2[\"x1\"] = cellP[\"x1\"]-axis[1]*cellP[\"r\"]/2\n",
    "    cellD2[\"x2\"] = cellP[\"x2\"]-axis[2]*cellP[\"r\"]/2\n",
    "    cellD2[\"x3\"] = cellP[\"x3\"]-axis[3]*cellP[\"r\"]/2\n",
    "    #Update concentration\n",
    "    asymmetry = rand(Uniform(-glob[\"σX\"],glob[\"σX\"]))\n",
    "    cellD1[\"x\"] = cellP[\"x\"]+asymmetry\n",
    "    cellD2[\"x\"] = cellP[\"x\"]-asymmetry\n",
    "    #Update division time\n",
    "    divTime = rand(Uniform(t+glob[\"τDiv\"]*(1-glob[\"σDiv\"]),t+glob[\"τDiv\"]*(1+glob[\"σDiv\"])),2)\n",
    "    cellD1[\"divTime\"] = cellP[\"divTime\"]+divTime[1]\n",
    "    cellD2[\"divTime\"] = cellP[\"divTime\"]+divTime[2]\n",
    "end\n",
    "#Division condition\n",
    "function divisionCondition(cell,t,glob)\n",
    "    return cell[\"divTime\"] < t\n",
    "end\n",
    "\n",
    "divisionJordi = Division(parametersDivision,division,divisionCondition,Nothing,Nothing)"
   ]
  },
  {
   "cell_type": "markdown",
   "metadata": {},
   "source": [
    "# Create community"
   ]
  },
  {
   "cell_type": "code",
   "execution_count": 659,
   "metadata": {},
   "outputs": [],
   "source": [
    "mutable struct Community\n",
    "    cells::Array{DataFrameRow}\n",
    "    glob::DataFrameRow\n",
    "    t_::Real\n",
    "    n_::Integer\n",
    "    lastId_::Integer\n",
    "    \n",
    "    function Community(cell::DataFrame,commParameters::DataFrame,t=0.,n=1,id=1)\n",
    "        if nrow(cell) == 0\n",
    "            cell2 = deepcopy(cell)\n",
    "            push!(cell2,reshape([0 for i in 1:length(names(cell2))],(1,length(names(cell2)))))\n",
    "            cell2.id_ = Int[1]\n",
    "        else\n",
    "            cell2 = deepcopy(cell)\n",
    "            cell2.id_ = Int[1]\n",
    "        end\n",
    "        if nrow(commParameters) == 0\n",
    "            commParameters2 = deepcopy(commParameters)\n",
    "            push!(commParameters2,reshape([0 for i in 1:length(names(commParameters2))],(1,length(names(commParameters2)))))\n",
    "        else\n",
    "            commParameters2 = deepcopy(commParameters)\n",
    "        end\n",
    "\n",
    "        new([cell2[1,:]],commParameters2[1,:],t,n,id)\n",
    "    end\n",
    "    \n",
    "end"
   ]
  },
  {
   "cell_type": "code",
   "execution_count": 660,
   "metadata": {},
   "outputs": [
    {
     "data": {
      "text/plain": [
       "assign! (generic function with 2 methods)"
      ]
     },
     "execution_count": 660,
     "metadata": {},
     "output_type": "execute_result"
    }
   ],
   "source": [
    "function assign!(com::Community,par::String,val::Real)\n",
    "    if par in keys(com.commParameters)\n",
    "        com.commParameters[par] = val\n",
    "    elseif par in keys(com.cells[1])\n",
    "        for i in com.cells\n",
    "            com.cells[par] = val\n",
    "        end\n",
    "    else\n",
    "        println(par, \" not a parameter of the community.\")\n",
    "    end\n",
    "    \n",
    "    return\n",
    "end\n",
    "\n",
    "function assign!(com::Community,par::String,val::Array{Real})\n",
    "    if length(val) != com.n\n",
    "        print(\"val array has more values than cells are in the community.\")\n",
    "    elseif par in keys(com.cells[1])\n",
    "        for i in com.cells\n",
    "            com.cells[par] = val()\n",
    "        end\n",
    "    else\n",
    "        println(par, \" is not a parameter of the cells.\")\n",
    "    end\n",
    "        \n",
    "    return\n",
    "end"
   ]
  },
  {
   "cell_type": "code",
   "execution_count": 661,
   "metadata": {},
   "outputs": [],
   "source": [
    "#Create a Jordi's community\n",
    "\n",
    "commJordi = Community(cellJordi,communityJordi);"
   ]
  },
  {
   "cell_type": "markdown",
   "metadata": {},
   "source": [
    "# Make model"
   ]
  },
  {
   "cell_type": "code",
   "execution_count": 662,
   "metadata": {},
   "outputs": [],
   "source": [
    "mutable struct AgentBasedModel\n",
    "    community::Community\n",
    "    dynamics::Array{Dynamics}\n",
    "    cellCell::Array{CellCell}\n",
    "    division::Division\n",
    "    \n",
    "    function AgentBasedModel(;cell::DataFrame,commParameters::DataFrame,t=0,n=1,dynamics::Array{Dynamics}=[],cellCell::Array{CellCell}=[],division::Division=Nothing)\n",
    "        new(Community(cell,commParameters,t,n),dynamics,cellCell,division)\n",
    "    end\n",
    "end"
   ]
  },
  {
   "cell_type": "code",
   "execution_count": 663,
   "metadata": {},
   "outputs": [],
   "source": [
    "abm = AgentBasedModel(cell=cellJordi,commParameters=communityJordi,dynamics=[mechanicsJordi,biochemicsJordi],cellCell=[cellCellMechanicsJordi,cellCellBiochemJordi],division=divisionJordi);"
   ]
  },
  {
   "cell_type": "markdown",
   "metadata": {},
   "source": [
    "# Saving model"
   ]
  },
  {
   "cell_type": "code",
   "execution_count": 664,
   "metadata": {},
   "outputs": [
    {
     "data": {
      "text/plain": [
       "saveCellsFile (generic function with 1 method)"
      ]
     },
     "execution_count": 664,
     "metadata": {},
     "output_type": "execute_result"
    }
   ],
   "source": [
    "function saveGlobal(community)\n",
    "    #Extract names\n",
    "    nam = keys(community.glob)\n",
    "    #Append \n",
    "    data = DataFrame()\n",
    "    data.t_ = [Float64(community.t_)]\n",
    "    data.n_ = [community.n_]\n",
    "    data.lastId_ = [community.lastId_]\n",
    "    for i in nam\n",
    "        data[:,i] .= [community.glob[i]]\n",
    "    end\n",
    "\n",
    "    return data\n",
    "end\n",
    "\n",
    "function saveCells(community)\n",
    "    #Extract names\n",
    "    nam = keys(community.cells[1])\n",
    "    #Append \n",
    "    data = DataFrame()\n",
    "    data.t_ = [Float64(community.t_)]\n",
    "    data.n_ = [community.n_]\n",
    "    data.lastId_ = [community.lastId_]\n",
    "    for i in nam\n",
    "        data[:,i] .= [[community.cells[c][i] for c in 1:community.n_]]\n",
    "    end\n",
    "\n",
    "    return data\n",
    "end\n",
    "\n",
    "function saveGlobal!(dataframe, community)\n",
    "    #Extract names\n",
    "    nam = keys(community.glob)\n",
    "    #Append \n",
    "    data = DataFrame()\n",
    "    data.t_ = [community.t_]\n",
    "    data.n_ = [community.n_]\n",
    "    data.lastId_ = [community.lastId_]\n",
    "    for i in nam\n",
    "        data[:,i] .= [community.glob[i]]\n",
    "    end\n",
    "\n",
    "    append!(dataframe,data)\n",
    "    \n",
    "    return Nothing\n",
    "end\n",
    "\n",
    "function saveCells!(dataframe, community)\n",
    "    #Extract names\n",
    "    nam = keys(community.cells[1])\n",
    "    #Append \n",
    "    data = DataFrame()\n",
    "    data.t_ = [community.t_]\n",
    "    data.n_ = [community.n_]\n",
    "    data.lastId_ = [community.lastId_]\n",
    "    for i in nam\n",
    "        data[:,i] .= [[community.cells[c][i] for c in 1:community.n_]]\n",
    "    end\n",
    "\n",
    "    append!(dataframe,data)\n",
    "    \n",
    "    return Nothing\n",
    "end\n",
    "\n",
    "function saveGlobalFile(fileName, community; header=false)\n",
    "    #Extract names\n",
    "    nam = keys(community.glob)\n",
    "    #Append \n",
    "    if header\n",
    "        data = DataFrame()\n",
    "        data.t_ = [community.t_]\n",
    "        data.n_ = [community.n_]\n",
    "        data.lastId_ = [community.lastId_]\n",
    "        for i in nam\n",
    "            data[:,i] .= [community.glob[i]]\n",
    "        end\n",
    "        #Save file\n",
    "        CSV.write(string(fileName,\"_global\"), data)\n",
    "    else\n",
    "        data = DataFrame()\n",
    "        data.t_ = [community.t_]\n",
    "        data.n_ = [community.n_]\n",
    "        data.lastId_ = [community.lastId_]\n",
    "        for i in nam\n",
    "            data[:,i] = [community.glob[i]]\n",
    "        end\n",
    "        #Save file\n",
    "        CSV.write(string(fileName,\"_global\"), data, append=true)\n",
    "    end\n",
    "\n",
    "    return Nothing\n",
    "end\n",
    "\n",
    "function saveCellsFile(fileName, community; header=false)\n",
    "    #Extract names\n",
    "    nam = keys(community.cells[1])\n",
    "    #Append \n",
    "    if header\n",
    "        data = DataFrame()\n",
    "        data.t_ = [community.t_]\n",
    "        data.n_ = [community.n_]\n",
    "        data.lastId_ = [community.lastId_]\n",
    "        for i in nam\n",
    "            data[:,i] .= [[community.cells[c][i] for c in 1:community.n_]]\n",
    "        end\n",
    "        #Save file\n",
    "        CSV.write(string(fileName,\"_cells\"), data)\n",
    "    else\n",
    "        data = DataFrame()\n",
    "        data.t_ = [community.t_]\n",
    "        data.n_ = [community.n_]\n",
    "        data.lastId_ = [community.lastId_]\n",
    "        for i in nam\n",
    "            data[:,i] = [[community.cells[c][i] for c in 1:community.n_]]\n",
    "        end\n",
    "        #Save file\n",
    "        CSV.write(string(fileName,\"_cells\"), data, append=true)\n",
    "    end\n",
    "\n",
    "    return Nothing\n",
    "end"
   ]
  },
  {
   "cell_type": "markdown",
   "metadata": {},
   "source": [
    "# Evolve model"
   ]
  },
  {
   "cell_type": "code",
   "execution_count": 665,
   "metadata": {},
   "outputs": [
    {
     "data": {
      "text/plain": [
       "evolve (generic function with 1 method)"
      ]
     },
     "execution_count": 665,
     "metadata": {},
     "output_type": "execute_result"
    }
   ],
   "source": [
    "function evolve(abm::AgentBasedModel,dt,tEnd\n",
    "        ;maxNumCells=1000, \n",
    "        maxNumNeighbours=Nothing,stepsRecomputeNeighbours=dt,\n",
    "        saveInRAM=true,saveInFile=false,stepsSave=dt,nameSavingFile=\"aux\")\n",
    "    #Allocate memory\n",
    "    append!(abm.community.cells,fill(deepcopy(abm.community.cells[1]),maxNumCells-abm.community.n_))\n",
    "    ##Make sure that they are copies\n",
    "    for i in abm.community.n_:maxNumCells\n",
    "        abm.community.cells[i] = deepcopy(abm.community.cells[1])\n",
    "    end\n",
    "    #Create auxilitary arrays\n",
    "    auxDyn = [zeros(length(dyn.variables)) for dyn in abm.dynamics]\n",
    "    if maxNumNeighbours == Nothing\n",
    "        auxNn = [zeros(Int,maxNumCells) for dyn in abm.cellCell]\n",
    "        auxNnList = [zeros(Int,maxNumCells,maxNumCells) for dyn in abm.cellCell]\n",
    "    else\n",
    "        auxNn = [zeros(Int,maxNumCells) for dyn in abm.cellCell]\n",
    "        auxNnList = [zeros(Int,maxNumCells,maxNumNeighbours) for dyn in abm.cellCell]        \n",
    "    end\n",
    "    auxContext = [zeros(maxNumCells,length(dyn.context)) for dyn in abm.cellCell]\n",
    "    auxCellcell = [zeros(maxNumCells,length(dyn.variables)) for dyn in abm.cellCell]\n",
    "    auxDividing = 0\n",
    "    auxDivisionList = zeros(Int,length(maxNumCells))\n",
    "    #Create parenthood DataFrame\n",
    "    parenthood = DataFrame(parent = Int[], daughter1 = Int[], daughter2 = Int[])\n",
    "    \n",
    "    #Save initial parameters and create files\n",
    "    if saveInFile\n",
    "        saveGlobalFile(nameSavingFile,abm.community,header=true)\n",
    "        saveCellsFile(nameSavingFile,abm.community,header=true)\n",
    "    end\n",
    "    if saveInRAM\n",
    "        dataGlobal = saveGlobal(abm.community)\n",
    "        dataCells = saveCells(abm.community)\n",
    "    end\n",
    "    #Initialise time of saving\n",
    "    timeSaving = abm.community.t_+stepsSave\n",
    "    \n",
    "    while abm.community.t_ < tEnd\n",
    "        \n",
    "        #Dynamics\n",
    "        for i in 1:length(abm.dynamics)\n",
    "            for j in 1:abm.community.n_\n",
    "                auxDyn[i] .= abm.dynamics[i].integrator(abm.dynamics[i].variables,abm.dynamics[i].f,abm.community.t_,dt,abm.community.cells[j],abm.community.glob)\n",
    "                for (pos,var) in enumerate(abm.dynamics[i].variables)\n",
    "                    abm.community.cells[j][var] = auxDyn[i][pos]\n",
    "                end\n",
    "            end\n",
    "        end\n",
    "        \n",
    "        #Division events\n",
    "        ##List dividing cells\n",
    "        auxDividing = 0\n",
    "        for i in 1:abm.community.n_\n",
    "            if abm.division.divisionCondition(abm.community.cells[i],abm.community.t_,abm.community.glob)\n",
    "                auxDividing += 1\n",
    "                auxDivisionList[auxDividing] = i\n",
    "            end\n",
    "        end\n",
    "        ##Make divisions\n",
    "        if auxDividing > 0\n",
    "            for i in auxDivisionList[1:auxDividing]\n",
    "                abm.division.f(abm.community.cells[i]\n",
    "                            ,abm.community.cells[abm.community.n_+1],abm.community.cells[abm.community.n_+2]\n",
    "                            ,abm.community.t_,abm.community.glob)\n",
    "                #Save split process\n",
    "                push!(parenthood,[abm.community.cells[i].id_,abm.community.lastId_+1,abm.community.lastId_+2])\n",
    "                #Update cell ids\n",
    "                abm.community.cells[i] = deepcopy(abm.community.cells[abm.community.n_+2])\n",
    "                abm.community.cells[i].id_ = abm.community.lastId_+1\n",
    "                abm.community.cells[abm.community.n_+1].id_ = abm.community.lastId_+2\n",
    "                abm.community.lastId_ += 2\n",
    "                #Increase community number\n",
    "                abm.community.n_ += 1\n",
    "            end\n",
    "        end\n",
    "            \n",
    "        #Nearest neighbors\n",
    "        for i in 1:length(abm.cellCell)\n",
    "            if abm.cellCell[i].neighboursCondition != Nothing\n",
    "                for j in 1:abm.community.n_\n",
    "                    #Reset neighbours\n",
    "                    auxNn[i][j] = 0\n",
    "                    for k in 1:abm.community.n_\n",
    "                        if abm.cellCell[i].neighboursCondition(abm.community.cells[j],abm.community.cells[k],j,k,abm.community.t_,abm.community.glob)\n",
    "                            auxNn[i][j] += 1\n",
    "                            auxNnList[i][j,auxNn[i][j]] = k\n",
    "                        end\n",
    "                    end\n",
    "                end\n",
    "            end\n",
    "        end\n",
    "        \n",
    "        #Contextual parameters\n",
    "        for i in 1:length(abm.cellCell)\n",
    "            if abm.cellCell[i].fContext != Nothing\n",
    "                #Compute new parameters\n",
    "                for j in 1:abm.community.n_\n",
    "                    #Reset context\n",
    "                    auxContext[i][j,:] .= 0\n",
    "                    for k in auxNnList[i][j,1:auxNn[i][j]]\n",
    "                        auxContext[i][j,:] .+= abm.cellCell.fContext(abm.community.cells[j],abm.community.cells[k],\n",
    "                                                                    j,k,\n",
    "                                                                    abm.community.t_,abm.community.glob,\n",
    "                                                                    auxNn[i][j],auxNnList[i][j,:])\n",
    "                    end\n",
    "                end\n",
    "                #Update cells\n",
    "                for j in 1:abm.community.n_\n",
    "                    for (pos,var) in enumerate(abm.cellCell[i].context)\n",
    "                        abm.community.cells[j][var] = auxContext[i][j,pos]\n",
    "                    end\n",
    "                end\n",
    "            end\n",
    "        end\n",
    "        \n",
    "        #Cell-cell interactions\n",
    "        for i in 1:length(abm.cellCell)\n",
    "            #Compute new parameters\n",
    "            for j in 1:abm.community.n_\n",
    "                #Reset context\n",
    "                auxCellcell[i][j] = 0\n",
    "                for k in auxNnList[i][j,1:auxNn[i][j]]\n",
    "                    auxCellcell[i][j,:] .+= abm.cellCell[i].f(abm.community.cells[j],abm.community.cells[k],\n",
    "                                                            j,k,\n",
    "                                                            abm.community.t_,abm.community.glob,\n",
    "                                                            auxNn[i][j],auxNnList[i][j,:])\n",
    "                end\n",
    "            end\n",
    "            #Update cells\n",
    "            for j in 1:abm.community.n_\n",
    "                for (pos,var) in enumerate(abm.cellCell[i].variables)\n",
    "                    abm.community.cells[j][var] = auxCellcell[i][j,pos]\n",
    "                end\n",
    "            end\n",
    "        end\n",
    "                \n",
    "        #Save events\n",
    "        if saveInRAM || saveInFile\n",
    "            if timeSaving < abm.community.t_\n",
    "                if saveInFile\n",
    "                    saveGlobalFile(nameSavingFile,abm.community)\n",
    "                    saveCellsFile(nameSavingFile,abm.community)\n",
    "                end\n",
    "                if saveInFile\n",
    "                    saveGlobal!(dataGlobal,abm.community)\n",
    "                    saveCells!(dataCells,abm.community)\n",
    "                end\n",
    "                timeSaving += stepsSave\n",
    "            end\n",
    "        end\n",
    "        #Update time\n",
    "        abm.community.t_ += dt\n",
    "    end\n",
    "    \n",
    "    return dataGlobal, dataCells, parenthood\n",
    "end"
   ]
  },
  {
   "cell_type": "code",
   "execution_count": 820,
   "metadata": {
    "scrolled": true
   },
   "outputs": [],
   "source": [
    "abm = AgentBasedModel(cell=cellJordi,commParameters=communityJordi,dynamics=[mechanicsJordi,biochemicsJordi],cellCell=[cellCellMechanicsJordi,cellCellBiochemJordi],division=divisionJordi)\n",
    "\n",
    "abm.community.cells[1][\"m\"] = 10^-6.\n",
    "abm.community.cells[1][\"r\"] = 5.\n",
    "abm.community.cells[1][\"divTime\"] = 10.\n",
    "abm.community.glob[\"b\"] = 10^-6.\n",
    "abm.community.glob[\"K0\"] = 10^-6.\n",
    "\n",
    "dataGlobal, dataCells, parenthood = evolve(abm,0.1,40,stepsSave=0.01,saveInFile=true,nameSavingFile=\"Proba\");"
   ]
  },
  {
   "cell_type": "code",
   "execution_count": 824,
   "metadata": {},
   "outputs": [
    {
     "data": {
      "image/png": "[encoded data removed]",
      "text/plain": [
       "Figure(PyObject <Figure size 640x480 with 1 Axes>)"
      ]
     },
     "metadata": {},
     "output_type": "display_data"
    }
   ],
   "source": [
    "for i in [1,2,3]\n",
    "    cell=extractCell(dataCells,i)\n",
    "    plot(cell[:,\"t_\"],cell[:,\"v3\"])\n",
    "end\n",
    "show()"
   ]
  },
  {
   "cell_type": "markdown",
   "metadata": {},
   "source": [
    "# Manipulations"
   ]
  },
  {
   "cell_type": "code",
   "execution_count": 692,
   "metadata": {},
   "outputs": [
    {
     "data": {
      "text/plain": [
       "extractCell (generic function with 1 method)"
      ]
     },
     "execution_count": 692,
     "metadata": {},
     "output_type": "execute_result"
    }
   ],
   "source": [
    "function extractCell(dataframe,id)\n",
    "    #Find window where id appeared\n",
    "    start = 1\n",
    "    stop = last\n",
    "    while !(id in dataframe[start,\"id_\"])\n",
    "        start += 1\n",
    "    end\n",
    "    stop = start\n",
    "    while (id in dataframe[stop,\"id_\"]) && stop < nrow(dataframe)-1\n",
    "        stop += 1\n",
    "    end\n",
    "    stop = stop-1\n",
    "\n",
    "    #Find position of the cell in array\n",
    "    pos = findfirst(dataframe[start,\"id_\"].==id)\n",
    "    #Extract cell\n",
    "    data = DataFrame()\n",
    "    data.t_ = dataframe[start:stop,\"t_\"]\n",
    "    data.n_ = dataframe[start:stop,\"n_\"]\n",
    "    data.lastId_ = dataframe[start:stop,\"lastId_\"]\n",
    "    for i in [var for var in names(dataCells) if !(var in [\"t_\",\"n_\",\"lastId_\"])]\n",
    "        data[:,i] = [com[pos] for com in dataframe[start:stop,i]]\n",
    "    end\n",
    "    \n",
    "    return data\n",
    "end"
   ]
  },
  {
   "cell_type": "markdown",
   "metadata": {},
   "source": [
    "# Visualization"
   ]
  },
  {
   "cell_type": "code",
   "execution_count": 695,
   "metadata": {},
   "outputs": [
    {
     "data": {
      "image/png": "[encoded data removed]",
      "text/plain": [
       "Figure(PyObject <Figure size 640x480 with 1 Axes>)"
      ]
     },
     "metadata": {},
     "output_type": "display_data"
    }
   ],
   "source": [
    "for i in [1,2,3]\n",
    "    cell=extractCell(dataCells,i)\n",
    "    plot(cell[:,\"t_\"],cell[:,\"x3\"])\n",
    "    legend([1,1,2,2,3,3])\n",
    "end\n",
    "show()"
   ]
  },
  {
   "cell_type": "markdown",
   "metadata": {},
   "source": [
    "## 3D plot"
   ]
  },
  {
   "cell_type": "code",
   "execution_count": 600,
   "metadata": {},
   "outputs": [
    {
     "data": {
      "text/plain": [
       "visualize (generic function with 1 method)"
      ]
     },
     "execution_count": 600,
     "metadata": {},
     "output_type": "execute_result"
    }
   ],
   "source": [
    "function visualize(data,t,posVars,radiVar)\n",
    "    n = 100\n",
    "    u = range(0,stop=2*π,length=n);\n",
    "    v = range(0,stop=π,length=n);\n",
    "\n",
    "    x = cos.(u) * sin.(v)';\n",
    "    y = sin.(u) * sin.(v)';\n",
    "    z = ones(n) * cos.(v)';\n",
    "    \n",
    "    idCells = data[t,\"id_\"]\n",
    "    for i in idCells\n",
    "        pos = findfirst(idCells.==i)\n",
    "        surf(x.*data[t,radiVar][pos].+data[t,posVars[1]][pos],\n",
    "             y.*data[t,radiVar][pos].+data[t,posVars[2]][pos],\n",
    "             z.*data[t,radiVar][pos].+data[t,posVars[3]][pos],\n",
    "             rstride=4, cstride=4)    \n",
    "    end\n",
    "    \n",
    "    return\n",
    "end"
   ]
  },
  {
   "cell_type": "code",
   "execution_count": 601,
   "metadata": {},
   "outputs": [
    {
     "data": {
      "image/png": "[encoded data removed]",
      "text/plain": [
       "Figure(PyObject <Figure size 640x480 with 1 Axes>)"
      ]
     },
     "metadata": {},
     "output_type": "display_data"
    }
   ],
   "source": [
    "visualize(dataCells,3,[\"x1\",\"x2\",\"x3\"],\"r\")\n",
    "#axis([-1,1,-1,1])\n",
    "show()"
   ]
  },
  {
   "cell_type": "code",
   "execution_count": null,
   "metadata": {},
   "outputs": [],
   "source": []
  },
  {
   "cell_type": "code",
   "execution_count": null,
   "metadata": {},
   "outputs": [],
   "source": []
  }
 ],
 "metadata": {
  "kernelspec": {
   "display_name": "Julia 1.5.0",
   "language": "julia",
   "name": "julia-1.5"
  },
  "language_info": {
   "file_extension": ".jl",
   "mimetype": "application/julia",
   "name": "julia",
   "version": "1.5.3"
  },
  "toc": {
   "base_numbering": 1,
   "nav_menu": {},
   "number_sections": true,
   "sideBar": true,
   "skip_h1_title": false,
   "title_cell": "Table of Contents",
   "title_sidebar": "Contents",
   "toc_cell": false,
   "toc_position": {
    "height": "calc(100% - 180px)",
    "left": "10px",
    "top": "150px",
    "width": "336px"
   },
   "toc_section_display": true,
   "toc_window_display": true
  }
 },
 "nbformat": 4,
 "nbformat_minor": 4
}
