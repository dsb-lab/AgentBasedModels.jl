{
 "cells": [
  {
   "cell_type": "code",
   "execution_count": 1,
   "metadata": {},
   "outputs": [],
   "source": [
    "using Random, Distributions\n",
    "using PyPlot#Plots#, PlotlyJS\n",
    "using CSV\n",
    "using DataFrames"
   ]
  },
  {
   "cell_type": "markdown",
   "metadata": {},
   "source": [
    "# Define parameters of Jordi's paper"
   ]
  },
  {
   "cell_type": "code",
   "execution_count": 2,
   "metadata": {},
   "outputs": [
    {
     "data": {
      "text/plain": [
       "1-element Array{Float64,1}:\n",
       " 2.0"
      ]
     },
     "execution_count": 2,
     "metadata": {},
     "output_type": "execute_result"
    }
   ],
   "source": [
    "#List cell parameters\n",
    "cellJordi = DataFrame()\n",
    "cellJordi.\"x\" = AbstractFloat[]\n",
    "cellJordi.\"xNeigh\" = AbstractFloat[]\n",
    "cellJordi.\"x1\" = AbstractFloat[]\n",
    "cellJordi.\"x2\" = AbstractFloat[]\n",
    "cellJordi.\"x3\" = AbstractFloat[]\n",
    "cellJordi.\"v1\" = AbstractFloat[]\n",
    "cellJordi.\"v2\" = AbstractFloat[]\n",
    "cellJordi.\"v3\" = AbstractFloat[]\n",
    "cellJordi.\"f1\" = AbstractFloat[]\n",
    "cellJordi.\"f2\" = AbstractFloat[]\n",
    "cellJordi.\"f3\" = AbstractFloat[]\n",
    "cellJordi.\"r\" = AbstractFloat[]\n",
    "cellJordi.\"m\" = AbstractFloat[]\n",
    "#It is not necewssary to include the num of neighbours if your do not want to, that is defined during the neighbours declaration\n",
    "\n",
    "#List of community parameters\n",
    "communityJordi = DataFrame()\n",
    "communityJordi.\"mInitial\" = [10^-6.]\n",
    "communityJordi.\"rInitial\" = [5.]\n",
    "communityJordi.\"b\" = [10^-6.]\n",
    "communityJordi.\"F0\" = [10^-4.]\n",
    "communityJordi.\"μ\" = [2.]\n",
    "#Not necessary to be defined the number of cells that you have"
   ]
  },
  {
   "cell_type": "markdown",
   "metadata": {},
   "source": [
    "# Dynamics"
   ]
  },
  {
   "cell_type": "code",
   "execution_count": 3,
   "metadata": {},
   "outputs": [],
   "source": [
    "mutable struct Dynamics\n",
    "    variables::Array{String}\n",
    "    f\n",
    "    integrator\n",
    "    activationCondition\n",
    "    deactivationCondition\n",
    "end"
   ]
  },
  {
   "cell_type": "code",
   "execution_count": 4,
   "metadata": {},
   "outputs": [
    {
     "data": {
      "text/plain": [
       "heuns (generic function with 1 method)"
      ]
     },
     "execution_count": 4,
     "metadata": {},
     "output_type": "execute_result"
    }
   ],
   "source": [
    "#Integrators\n",
    "function rungeKutta4(variables,f::Function,t,dt,cell,glob)\n",
    "    k0 = [cell[i] for i in variables]\n",
    "    k1 = f(k0,t,cell,glob)\n",
    "    k2 = f(k0+0.5*k1*dt,t+0.5*dt,cell,glob)\n",
    "    k3 = f(k0+0.5*k2*dt,t+0.5*dt,cell,glob)\n",
    "    k4 = f(k0+k3*dt,t+dt,cell,glob)\n",
    "    return k0+(k1+2*k2+2*k3+k4)*dt/6\n",
    "end\n",
    "\n",
    "function heuns(variables,f::Function,t,dt,cell,glob)\n",
    "    k0 = [cell[i] for i in variables]\n",
    "    k1 = f(k0,t,cell,glob)\n",
    "    k2 = f(k0+k1*dt,t+dt,cell,glob)\n",
    "    return k0+(k1+k2)*dt/2\n",
    "end"
   ]
  },
  {
   "cell_type": "code",
   "execution_count": 5,
   "metadata": {},
   "outputs": [
    {
     "data": {
      "text/plain": [
       "Dynamics([\"v1\", \"v2\", \"v3\", \"x1\", \"x2\", \"x3\"], mechanics, heuns, Nothing, Nothing)"
      ]
     },
     "execution_count": 5,
     "metadata": {},
     "output_type": "execute_result"
    }
   ],
   "source": [
    "#Mechanics of jordi's paper\n",
    "variablesMechanics = [\"v1\",\"v2\",\"v3\",\"x1\",\"x2\",\"x3\"]\n",
    "function mechanics(vars,t,cell,glob)\n",
    "    v1,v2,v3,x1,x2,x3 = vars\n",
    "    dv1dt = (-glob[\"b\"]*v1+cell[\"f1\"])/cell[\"m\"]\n",
    "    dv2dt = (-glob[\"b\"]*v2+cell[\"f2\"])/cell[\"m\"]\n",
    "    dv3dt = (-glob[\"b\"]*v3+cell[\"f3\"])/cell[\"m\"]\n",
    "    dx1dt = v1\n",
    "    dx2dt = v2\n",
    "    dx3dt = v3\n",
    "    return [dv1dt,dv2dt,dv3dt,dx1dt,dx2dt,dx3dt]\n",
    "end\n",
    "\n",
    "mechanicsJordi = Dynamics(variablesMechanics,mechanics,heuns,Nothing,Nothing)"
   ]
  },
  {
   "cell_type": "code",
   "execution_count": 6,
   "metadata": {},
   "outputs": [
    {
     "data": {
      "text/plain": [
       "Dynamics([\"x\"], biochemistry, heuns, Nothing, Nothing)"
      ]
     },
     "execution_count": 6,
     "metadata": {},
     "output_type": "execute_result"
    }
   ],
   "source": [
    "#Biochemistry of jordi's paper\n",
    "#Dynamics\n",
    "variablesBiochemistry = [\"x\"]\n",
    "function biochemistry(vars,t,cell,glob)\n",
    "    x, = vars\n",
    "    dxdt = glob[\"α\"]*(1+x^glob[\"n\"])^glob[\"m\"]/((1+x^glob[\"n\"])^glob[\"m\"]+(cell[\"xNeigh\"]^glob[\"n\"]/glob[\"K\"])^(2*glob[\"m\"]))-x\n",
    "    return [dxdt]\n",
    "end\n",
    "\n",
    "biochemicsJordi = Dynamics(variablesBiochemistry,biochemistry,heuns, Nothing, Nothing)"
   ]
  },
  {
   "cell_type": "markdown",
   "metadata": {},
   "source": [
    "# Cell-Cell interactions"
   ]
  },
  {
   "cell_type": "code",
   "execution_count": 7,
   "metadata": {},
   "outputs": [],
   "source": [
    "mutable struct CellCell\n",
    "    variables::Array{String}\n",
    "    context::Array{String}\n",
    "    f\n",
    "    fContext\n",
    "    neighboursCondition\n",
    "    activationCondition\n",
    "    deactivationCondition\n",
    "end"
   ]
  },
  {
   "cell_type": "code",
   "execution_count": 8,
   "metadata": {},
   "outputs": [
    {
     "data": {
      "text/plain": [
       "CellCell([\"f1\", \"f2\", \"f3\"], String[], force, Nothing, neighboursForce, Nothing, Nothing)"
      ]
     },
     "execution_count": 8,
     "metadata": {},
     "output_type": "execute_result"
    }
   ],
   "source": [
    "parametersForce = [\"f1\",\"f2\",\"f3\"]\n",
    "function force(cell1,cell2,pos1,pos2,t,glob,neighboursN,neighboursList)\n",
    "    if pos1 != pos2\n",
    "        rij = cell1[\"r\"]+cell2[\"r\"]\n",
    "        d = sqrt((cell1[\"x1\"]-cell2[\"x1\"])^2+(cell1[\"x2\"]-cell2[\"x2\"])^2+(cell1[\"x3\"]-cell2[\"x3\"])^2)\n",
    "        return glob[\"F0\"]*(rij/d-1)*(glob[\"μ\"]*rij/d-1)/d.*[cell1[\"x1\"]-cell2[\"x1\"],cell1[\"x2\"]-cell2[\"x2\"],cell1[\"x3\"]-cell2[\"x3\"]]\n",
    "    else\n",
    "        return 0.\n",
    "    end\n",
    "end\n",
    "function neighboursForce(cell1,cell2,pos1,pos2,t,glob)\n",
    "    rij = cell1[\"r\"]+cell2[\"r\"]\n",
    "    d = sqrt((cell1[\"x1\"]-cell2[\"x1\"])^2+(cell1[\"x2\"]-cell2[\"x2\"])^2+(cell1[\"x3\"]-cell2[\"x3\"])^2)\n",
    "    if d < glob[\"μ\"]*rij\n",
    "        return true\n",
    "    else\n",
    "        return false\n",
    "    end\n",
    "end\n",
    "\n",
    "cellCellMechanicsJordi = CellCell(parametersForce,[],force,Nothing,neighboursForce,Nothing,Nothing)"
   ]
  },
  {
   "cell_type": "code",
   "execution_count": 9,
   "metadata": {},
   "outputs": [
    {
     "data": {
      "text/plain": [
       "CellCell([\"xNeigh\"], String[], diffussion, Nothing, neighboursDiffusion, Nothing, Nothing)"
      ]
     },
     "execution_count": 9,
     "metadata": {},
     "output_type": "execute_result"
    }
   ],
   "source": [
    "parametersBiochem = [\"xNeigh\"]\n",
    "function diffussion(cell1,cell2,pos1,pos2,t,glob,neighboursN,neighboursList)\n",
    "    return cell2[\"x\"]/neighboursN\n",
    "end\n",
    "function neighboursDiffusion(cell1,cell2,pos1,pos2,t,glob)\n",
    "    rij = cell1[\"r\"]+cell2[\"r\"]\n",
    "    d = sqrt((cell1[\"x1\"]-cell2[\"x1\"])^2+(cell1[\"x2\"]-cell2[\"x2\"])^2+(cell1[\"x3\"]-cell2[\"x3\"])^2)\n",
    "    if d < glob[\"fRange\"]*rij\n",
    "        return true\n",
    "    else\n",
    "        return false\n",
    "    end\n",
    "end\n",
    "\n",
    "cellCellBiochemJordi = CellCell(parametersBiochem,[],diffussion,Nothing,neighboursDiffusion,Nothing,Nothing)"
   ]
  },
  {
   "cell_type": "markdown",
   "metadata": {},
   "source": [
    "# Division"
   ]
  },
  {
   "cell_type": "code",
   "execution_count": 10,
   "metadata": {},
   "outputs": [],
   "source": [
    "mutable struct Division\n",
    "    variables::Array{String}\n",
    "    f\n",
    "    divisionCondition\n",
    "    activationCondition\n",
    "    deactivationCondition\n",
    "end"
   ]
  },
  {
   "cell_type": "markdown",
   "metadata": {},
   "source": [
    "# Create community"
   ]
  },
  {
   "cell_type": "code",
   "execution_count": 11,
   "metadata": {},
   "outputs": [],
   "source": [
    "mutable struct Community\n",
    "    cells::Array{DataFrameRow}\n",
    "    glob::DataFrameRow\n",
    "    t_::Real\n",
    "    n_::Integer\n",
    "    lastId_::Integer\n",
    "    \n",
    "    function Community(cell::DataFrame,commParameters::DataFrame,t=0.,n=1,id=1)\n",
    "        if nrow(cell) == 0\n",
    "            cell2 = deepcopy(cell)\n",
    "            push!(cell2,reshape([0 for i in 1:length(names(cell2))],(1,length(names(cell2)))))\n",
    "            cell2.id_ = Int[1]\n",
    "        else\n",
    "            cell2 = deepcopy(cell)\n",
    "            cell2.id_ = Int[1]\n",
    "        end\n",
    "        if nrow(commParameters) == 0\n",
    "            commParameters2 = deepcopy(commParameters)\n",
    "            push!(commParameters2,reshape([0 for i in 1:length(names(commParameters2))],(1,length(names(commParameters2)))))\n",
    "        else\n",
    "            commParameters2 = deepcopy(commParameters)\n",
    "        end\n",
    "\n",
    "        new([deepcopy(cell2[1,:]) for i in 1:n],commParameters2[1,:],t,n,id)\n",
    "    end\n",
    "    \n",
    "end"
   ]
  },
  {
   "cell_type": "code",
   "execution_count": 12,
   "metadata": {},
   "outputs": [
    {
     "data": {
      "text/plain": [
       "assign! (generic function with 2 methods)"
      ]
     },
     "execution_count": 12,
     "metadata": {},
     "output_type": "execute_result"
    }
   ],
   "source": [
    "function assign!(com::Community,par::String,val::Real)\n",
    "    if par in keys(com.commParameters)\n",
    "        com.commParameters[par] = val\n",
    "    elseif par in keys(com.cells[1])\n",
    "        for i in com.cells\n",
    "            com.cells[par] = val\n",
    "        end\n",
    "    else\n",
    "        println(par, \" not a parameter of the community.\")\n",
    "    end\n",
    "    \n",
    "    return\n",
    "end\n",
    "\n",
    "function assign!(com::Community,par::String,val::Array{Real})\n",
    "    if length(val) != com.n\n",
    "        print(\"val array has more values than cells are in the community.\")\n",
    "    elseif par in keys(com.cells[1])\n",
    "        for i in com.cells\n",
    "            com.cells[par] = val()\n",
    "        end\n",
    "    else\n",
    "        println(par, \" is not a parameter of the cells.\")\n",
    "    end\n",
    "        \n",
    "    return\n",
    "end"
   ]
  },
  {
   "cell_type": "code",
   "execution_count": 13,
   "metadata": {},
   "outputs": [],
   "source": [
    "#Create a Jordi's community\n",
    "\n",
    "commJordi = Community(cellJordi,communityJordi);"
   ]
  },
  {
   "cell_type": "markdown",
   "metadata": {},
   "source": [
    "# Make model"
   ]
  },
  {
   "cell_type": "code",
   "execution_count": 14,
   "metadata": {},
   "outputs": [],
   "source": [
    "mutable struct AgentBasedModel\n",
    "    community::Community\n",
    "    dynamics::Array{Dynamics}\n",
    "    cellCell::Array{CellCell}\n",
    "    division#::Division\n",
    "    \n",
    "    function AgentBasedModel(;cell::DataFrame,commParameters::DataFrame,t=0,n=1,dynamics::Array{Dynamics}=[],cellCell::Array{CellCell}=[],division=Nothing)\n",
    "        new(Community(cell,commParameters,t,n),dynamics,cellCell,division)\n",
    "    end\n",
    "end"
   ]
  },
  {
   "cell_type": "code",
   "execution_count": 15,
   "metadata": {},
   "outputs": [],
   "source": [
    "abm = AgentBasedModel(cell=cellJordi,commParameters=communityJordi,dynamics=[mechanicsJordi],cellCell=[cellCellMechanicsJordi]);"
   ]
  },
  {
   "cell_type": "markdown",
   "metadata": {},
   "source": [
    "# Saving model"
   ]
  },
  {
   "cell_type": "code",
   "execution_count": 16,
   "metadata": {},
   "outputs": [
    {
     "data": {
      "text/plain": [
       "saveCellsFile (generic function with 1 method)"
      ]
     },
     "execution_count": 16,
     "metadata": {},
     "output_type": "execute_result"
    }
   ],
   "source": [
    "function saveGlobal(community)\n",
    "    #Extract names\n",
    "    nam = keys(community.glob)\n",
    "    #Append \n",
    "    data = DataFrame()\n",
    "    data.t_ = [Float64(community.t_)]\n",
    "    data.n_ = [community.n_]\n",
    "    data.lastId_ = [community.lastId_]\n",
    "    for i in nam\n",
    "        data[:,i] .= [community.glob[i]]\n",
    "    end\n",
    "\n",
    "    return data\n",
    "end\n",
    "\n",
    "function saveCells(community)\n",
    "    #Extract names\n",
    "    nam = keys(community.cells[1])\n",
    "    #Append \n",
    "    data = DataFrame()\n",
    "    data.t_ = [Float64(community.t_)]\n",
    "    data.n_ = [community.n_]\n",
    "    data.lastId_ = [community.lastId_]\n",
    "    for i in nam\n",
    "        data[:,i] .= [[community.cells[c][i] for c in 1:community.n_]]\n",
    "    end\n",
    "\n",
    "    return data\n",
    "end\n",
    "\n",
    "function saveGlobal!(dataframe, community)\n",
    "    #Extract names\n",
    "    nam = keys(community.glob)\n",
    "    #Append \n",
    "    data = DataFrame()\n",
    "    data.t_ = [community.t_]\n",
    "    data.n_ = [community.n_]\n",
    "    data.lastId_ = [community.lastId_]\n",
    "    for i in nam\n",
    "        data[:,i] .= [community.glob[i]]\n",
    "    end\n",
    "\n",
    "    append!(dataframe,data)\n",
    "    \n",
    "    return Nothing\n",
    "end\n",
    "\n",
    "function saveCells!(dataframe, community)\n",
    "    #Extract names\n",
    "    nam = keys(community.cells[1])\n",
    "    #Append \n",
    "    data = DataFrame()\n",
    "    data.t_ = [community.t_]\n",
    "    data.n_ = [community.n_]\n",
    "    data.lastId_ = [community.lastId_]\n",
    "    for i in nam\n",
    "        data[:,i] .= [[community.cells[c][i] for c in 1:community.n_]]\n",
    "    end\n",
    "\n",
    "    append!(dataframe,data)\n",
    "    \n",
    "    return Nothing\n",
    "end\n",
    "\n",
    "function saveGlobalFile(fileName, community; header=false)\n",
    "    #Extract names\n",
    "    nam = keys(community.glob)\n",
    "    #Append \n",
    "    if header\n",
    "        data = DataFrame()\n",
    "        data.t_ = [community.t_]\n",
    "        data.n_ = [community.n_]\n",
    "        data.lastId_ = [community.lastId_]\n",
    "        for i in nam\n",
    "            data[:,i] .= [community.glob[i]]\n",
    "        end\n",
    "        #Save file\n",
    "        CSV.write(string(fileName,\"_global\"), data)\n",
    "    else\n",
    "        data = DataFrame()\n",
    "        data.t_ = [community.t_]\n",
    "        data.n_ = [community.n_]\n",
    "        data.lastId_ = [community.lastId_]\n",
    "        for i in nam\n",
    "            data[:,i] = [community.glob[i]]\n",
    "        end\n",
    "        #Save file\n",
    "        CSV.write(string(fileName,\"_global\"), data, append=true)\n",
    "    end\n",
    "\n",
    "    return Nothing\n",
    "end\n",
    "\n",
    "function saveCellsFile(fileName, community; header=false)\n",
    "    #Extract names\n",
    "    nam = keys(community.cells[1])\n",
    "    #Append \n",
    "    if header\n",
    "        data = DataFrame()\n",
    "        data.t_ = [community.t_]\n",
    "        data.n_ = [community.n_]\n",
    "        data.lastId_ = [community.lastId_]\n",
    "        for i in nam\n",
    "            data[:,i] .= [[community.cells[c][i] for c in 1:community.n_]]\n",
    "        end\n",
    "        #Save file\n",
    "        CSV.write(string(fileName,\"_cells\"), data)\n",
    "    else\n",
    "        data = DataFrame()\n",
    "        data.t_ = [community.t_]\n",
    "        data.n_ = [community.n_]\n",
    "        data.lastId_ = [community.lastId_]\n",
    "        for i in nam\n",
    "            data[:,i] = [[community.cells[c][i] for c in 1:community.n_]]\n",
    "        end\n",
    "        #Save file\n",
    "        CSV.write(string(fileName,\"_cells\"), data, append=true)\n",
    "    end\n",
    "\n",
    "    return Nothing\n",
    "end"
   ]
  },
  {
   "cell_type": "markdown",
   "metadata": {},
   "source": [
    "# Evolve model"
   ]
  },
  {
   "cell_type": "code",
   "execution_count": 17,
   "metadata": {},
   "outputs": [
    {
     "data": {
      "text/plain": [
       "evolve (generic function with 1 method)"
      ]
     },
     "execution_count": 17,
     "metadata": {},
     "output_type": "execute_result"
    }
   ],
   "source": [
    "function evolve(abm::AgentBasedModel,dt,tEnd\n",
    "        ;maxNumCells=1000, \n",
    "        maxNumNeighbours=Nothing,stepsRecomputeNeighbours=dt,\n",
    "        saveInRAM=true,saveInFile=false,stepsSave=dt,nameSavingFile=\"aux\")\n",
    "    #Allocate memory\n",
    "    append!(abm.community.cells,fill(deepcopy(abm.community.cells[1]),maxNumCells-abm.community.n_))\n",
    "    ##Make sure that they are copies\n",
    "    for i in abm.community.n_+1:maxNumCells\n",
    "        abm.community.cells[i] = deepcopy(abm.community.cells[1])\n",
    "    end\n",
    "    #Create auxilitary arrays\n",
    "    auxDyn = [zeros(length(dyn.variables)) for dyn in abm.dynamics]\n",
    "    if maxNumNeighbours == Nothing\n",
    "        auxNn = [zeros(Int,maxNumCells) for dyn in abm.cellCell]\n",
    "        auxNnList = [zeros(Int,maxNumCells,maxNumCells) for dyn in abm.cellCell]\n",
    "    else\n",
    "        auxNn = [zeros(Int,maxNumCells) for dyn in abm.cellCell]\n",
    "        auxNnList = [zeros(Int,maxNumCells,maxNumNeighbours) for dyn in abm.cellCell]        \n",
    "    end\n",
    "    auxContext = [zeros(maxNumCells,length(dyn.context)) for dyn in abm.cellCell]\n",
    "    auxCellcell = [zeros(maxNumCells,length(dyn.variables)) for dyn in abm.cellCell]\n",
    "    auxDividing = 0\n",
    "    auxDivisionList = zeros(Int,length(maxNumCells))\n",
    "    #Create parenthood DataFrame\n",
    "    parenthood = DataFrame(parent = Int[], daughter1 = Int[], daughter2 = Int[])\n",
    "    \n",
    "    #Save initial parameters and create files\n",
    "    if saveInFile\n",
    "        saveGlobalFile(nameSavingFile,abm.community,header=true)\n",
    "        saveCellsFile(nameSavingFile,abm.community,header=true)\n",
    "    end\n",
    "    if saveInRAM\n",
    "        dataGlobal = saveGlobal(abm.community)\n",
    "        dataCells = saveCells(abm.community)\n",
    "    end\n",
    "    #Initialise time of saving\n",
    "    timeSaving = abm.community.t_+stepsSave\n",
    "       \n",
    "    while abm.community.t_ < tEnd\n",
    "        \n",
    "        #Nearest neighbors\n",
    "        for i in 1:length(abm.cellCell)\n",
    "            if abm.cellCell[i].neighboursCondition != Nothing\n",
    "                for j in 1:abm.community.n_\n",
    "                    #Reset neighbours\n",
    "                    auxNn[i][j] = 0\n",
    "                    for k in 1:abm.community.n_\n",
    "                        if abm.cellCell[i].neighboursCondition(abm.community.cells[j],abm.community.cells[k],j,k,abm.community.t_,abm.community.glob)\n",
    "                            auxNn[i][j] += 1\n",
    "                            auxNnList[i][j,auxNn[i][j]] = k\n",
    "                        end\n",
    "                    end\n",
    "                end\n",
    "            end\n",
    "        end\n",
    "        \n",
    "        #Contextual parameters\n",
    "        for i in 1:length(abm.cellCell)\n",
    "            if abm.cellCell[i].fContext != Nothing\n",
    "                #Compute new parameters\n",
    "                for j in 1:abm.community.n_\n",
    "                    #Reset context\n",
    "                    auxContext[i][j,:] .= 0\n",
    "                    for k in auxNnList[i][j,1:auxNn[i][j]]\n",
    "                        auxContext[i][j,:] .+= abm.cellCell.fContext(abm.community.cells[j],abm.community.cells[k],\n",
    "                                                                    j,k,\n",
    "                                                                    abm.community.t_,abm.community.glob,\n",
    "                                                                    auxNn[i][j],auxNnList[i][j,:])\n",
    "                    end\n",
    "                end\n",
    "                #Update cells\n",
    "                for j in 1:abm.community.n_\n",
    "                    for (pos,var) in enumerate(abm.cellCell[i].context)\n",
    "                        abm.community.cells[j][var] = auxContext[i][j,pos]\n",
    "                    end\n",
    "                end\n",
    "            end\n",
    "        end\n",
    "        \n",
    "        #Cell-cell interactions\n",
    "        for i in 1:length(abm.cellCell)\n",
    "            #Compute new parameters\n",
    "            for j in 1:abm.community.n_\n",
    "                #Reset context\n",
    "                auxCellcell[i][j,:] .= 0\n",
    "                for k in auxNnList[i][j,1:auxNn[i][j]]\n",
    "                    auxCellcell[i][j,:] .+= abm.cellCell[i].f(abm.community.cells[j],abm.community.cells[k],\n",
    "                                                            j,k,\n",
    "                                                            abm.community.t_,abm.community.glob,\n",
    "                                                            auxNn[i][j],auxNnList[i][j,:])\n",
    "                end\n",
    "            end\n",
    "            #Update cells\n",
    "            for j in 1:abm.community.n_\n",
    "                for (pos,var) in enumerate(abm.cellCell[i].variables)\n",
    "                    abm.community.cells[j][var] = auxCellcell[i][j,pos]\n",
    "                end\n",
    "            end\n",
    "        end\n",
    "        \n",
    "        #Dynamics\n",
    "        for i in 1:length(abm.dynamics)\n",
    "            for j in 1:abm.community.n_\n",
    "                auxDyn[i] .= abm.dynamics[i].integrator(abm.dynamics[i].variables,abm.dynamics[i].f,abm.community.t_,dt,abm.community.cells[j],abm.community.glob)\n",
    "                for (pos,var) in enumerate(abm.dynamics[i].variables)\n",
    "                    abm.community.cells[j][var] = auxDyn[i][pos]\n",
    "                end\n",
    "            end\n",
    "        end\n",
    "        \n",
    "        #Division events\n",
    "        ##List dividing cells\n",
    "        if abm.division != Nothing\n",
    "            auxDividing = 0\n",
    "            for i in 1:abm.community.n_\n",
    "                if abm.division.divisionCondition(abm.community.cells[i],abm.community.t_,abm.community.glob)\n",
    "                    auxDividing += 1\n",
    "                    auxDivisionList[auxDividing] = i\n",
    "                end\n",
    "            end\n",
    "            ##Make divisions\n",
    "            if auxDividing > 0\n",
    "                for i in auxDivisionList[1:auxDividing]\n",
    "                    abm.division.f(abm.community.cells[i]\n",
    "                                ,abm.community.cells[abm.community.n_+1],abm.community.cells[abm.community.n_+2]\n",
    "                                ,abm.community.t_,abm.community.glob)\n",
    "                    #Save split process\n",
    "                    push!(parenthood,[abm.community.cells[i].id_,abm.community.lastId_+1,abm.community.lastId_+2])\n",
    "                    #Update cell ids\n",
    "                    abm.community.cells[i] = deepcopy(abm.community.cells[abm.community.n_+2])\n",
    "                    abm.community.cells[i].id_ = abm.community.lastId_+1\n",
    "                    abm.community.cells[abm.community.n_+1].id_ = abm.community.lastId_+2\n",
    "                    abm.community.lastId_ += 2\n",
    "                    #Increase community number\n",
    "                    abm.community.n_ += 1\n",
    "                end\n",
    "            end\n",
    "        end\n",
    "                            \n",
    "        #Save events\n",
    "        if saveInRAM || saveInFile\n",
    "            if timeSaving < abm.community.t_\n",
    "                if saveInFile\n",
    "                    saveGlobalFile(nameSavingFile,abm.community)\n",
    "                    saveCellsFile(nameSavingFile,abm.community)\n",
    "                end\n",
    "                if saveInFile\n",
    "                    saveGlobal!(dataGlobal,abm.community)\n",
    "                    saveCells!(dataCells,abm.community)\n",
    "                end\n",
    "                timeSaving += stepsSave\n",
    "            end\n",
    "        end\n",
    "        #Update time\n",
    "        abm.community.t_ += dt\n",
    "    end\n",
    "    \n",
    "    return dataGlobal, dataCells, parenthood\n",
    "end"
   ]
  },
  {
   "cell_type": "code",
   "execution_count": 18,
   "metadata": {
    "scrolled": true
   },
   "outputs": [],
   "source": [
    "abm = AgentBasedModel(cell=cellJordi,commParameters=communityJordi,n=2,dynamics=[mechanicsJordi],cellCell=[cellCellMechanicsJordi])\n",
    "\n",
    "abm.community.glob[\"b\"] = 10^-6\n",
    "abm.community.glob[\"F0\"] = 10^-4\n",
    "\n",
    "direction = [1,1,1]\n",
    "direction /= sqrt(sum(direction.^2))\n",
    "\n",
    "abm.community.cells[1][\"m\"] = 10^-6.\n",
    "abm.community.cells[1][\"r\"] = 5/2^(1/3)\n",
    "abm.community.cells[1][\"x1\"] = 0\n",
    "abm.community.cells[1][\"v1\"] = 0\n",
    "abm.community.cells[1][\"v2\"] = 0\n",
    "abm.community.cells[1][\"v3\"] = 0\n",
    "abm.community.cells[1][\"id_\"] = 1\n",
    "abm.community.cells[1][\"x\"] = 1\n",
    "\n",
    "abm.community.cells[2][\"m\"] = 10^-6.\n",
    "abm.community.cells[2][\"r\"] = 5/2^(1/3)\n",
    "abm.community.cells[2][\"x1\"] = 5*direction[1]\n",
    "abm.community.cells[2][\"x2\"] = 5*direction[2]\n",
    "abm.community.cells[2][\"x3\"] = 5*direction[3]\n",
    "abm.community.cells[2][\"v1\"] = 0\n",
    "abm.community.cells[2][\"v2\"] = 0\n",
    "abm.community.cells[2][\"v3\"] = 0\n",
    "abm.community.cells[2][\"id_\"] = 2\n",
    "abm.community.cells[2][\"id_\"] = 0\n",
    "\n",
    "dataGlobal, dataCells, parenthood = evolve(abm,0.005,20,stepsSave=0.01,saveInFile=true,nameSavingFile=\"Proba\");"
   ]
  },
  {
   "cell_type": "code",
   "execution_count": 22,
   "metadata": {},
   "outputs": [
    {
     "ename": "LoadError",
     "evalue": "BoundsError: attempt to access 2000×17 DataFrame\n  at index [2001, \"id_\"]",
     "output_type": "error",
     "traceback": [
      "BoundsError: attempt to access 2000×17 DataFrame\n  at index [2001, \"id_\"]",
      "",
      "Stacktrace:",
      " [1] getindex at /home/gabriel/.julia/packages/DataFrames/X0xNW/src/dataframe/dataframe.jl:407 [inlined]",
      " [2] extractCell(::DataFrame, ::Int64) at ./In[21]:5",
      " [3] top-level scope at In[22]:33"
     ]
    }
   ],
   "source": [
    "abm = AgentBasedModel(cell=cellJordi,commParameters=communityJordi,n=2,dynamics=[mechanicsJordi],cellCell=[cellCellMechanicsJordi])\n",
    "direction = [1,0,0]\n",
    "direction /= sqrt(sum(direction.^2))\n",
    "\n",
    "abm.community.cells[1][\"m\"] = 10^-6.\n",
    "abm.community.cells[1][\"r\"] = 5/2^(1/3)\n",
    "abm.community.cells[1][\"x1\"] = 0\n",
    "abm.community.cells[1][\"v1\"] = 0\n",
    "abm.community.cells[1][\"id_\"] = 1\n",
    "abm.community.cells[1][\"x\"] = 1\n",
    "\n",
    "abm.community.cells[2][\"m\"] = 10^-6.\n",
    "abm.community.cells[2][\"r\"] = 5/2^(1/3)\n",
    "abm.community.cells[2][\"x1\"] = 5*direction[1]\n",
    "abm.community.cells[2][\"x2\"] = 5*direction[2]\n",
    "abm.community.cells[2][\"x3\"] = 5*direction[3]\n",
    "abm.community.cells[2][\"v1\"] = 0\n",
    "abm.community.cells[2][\"id_\"] = 2\n",
    "abm.community.cells[2][\"x\"] = 0\n",
    "\n",
    "figure(figsize=[10,5])\n",
    "suptitle(L\"$b=10^{-6}$ $F_0=10^{-4}$\")\n",
    "subplot(string(221))\n",
    "x = 5:0.01:20\n",
    "a = []\n",
    "for i in x\n",
    "    abm.community.cells[2][\"x1\"] = i\n",
    "    push!(a,abm.cellCell[1].f(abm.community.cells[1], abm.community.cells[2], 1, 2, 0, abm.community.glob, Nothing, Nothing))\n",
    "end\n",
    "plot(x,[i[1] for i in a])\n",
    "\n",
    "cell1=extractCell(dataCells,1)\n",
    "cell2=extractCell(dataCells,2)\n",
    "\n",
    "d = sqrt.((cell2[2:end,\"x1\"]-cell1[2:end,\"x1\"]).^2+(cell2[2:end,\"x2\"]-cell1[2:end,\"x2\"]).^2+(cell2[2:end,\"x3\"]-cell1[2:end,\"x3\"]).^2)\n",
    "f = sqrt.(cell1[2:end,\"f1\"].^2+cell1[2:end,\"f2\"].^2+cell1[2:end,\"f3\"].^2)\n",
    "plot(d,f)\n",
    "\n",
    "vlines(5,minimum(a),maximum(a))\n",
    "scatter(d[end],0)\n",
    "grid()\n",
    "\n",
    "xlabel(\"Distance\")\n",
    "ylabel(\"Attachment force\")\n",
    "#legend([\"Potential\", \"Trajectory of jumps\", \"Initial distance between cells\", \"Final point\"])\n",
    "show()\n",
    "\n",
    "subplot(string(222))\n",
    "plot(cell1[:,\"t_\"],cell1[:,\"x2\"])\n",
    "plot(cell2[:,\"t_\"],cell2[:,\"x2\"])\n",
    "xlabel(\"time (a.u.)\")\n",
    "ylabel(\"position x1\")\n",
    "legend([\"Cell1\",\"Cell2\"])"
   ]
  },
  {
   "cell_type": "markdown",
   "metadata": {},
   "source": [
    "# Manipulations"
   ]
  },
  {
   "cell_type": "code",
   "execution_count": 21,
   "metadata": {},
   "outputs": [
    {
     "data": {
      "text/plain": [
       "extractCell (generic function with 1 method)"
      ]
     },
     "execution_count": 21,
     "metadata": {},
     "output_type": "execute_result"
    }
   ],
   "source": [
    "function extractCell(dataframe,id)\n",
    "    #Find window where id appeared\n",
    "    start = 1\n",
    "    stop = last\n",
    "    while !(id in dataframe[start,\"id_\"])\n",
    "        start += 1\n",
    "    end\n",
    "    stop = start\n",
    "    while (id in dataframe[stop,\"id_\"]) && stop < nrow(dataframe)-1\n",
    "        stop += 1\n",
    "    end\n",
    "    stop = stop-1\n",
    "\n",
    "    #Find position of the cell in array\n",
    "    pos = findfirst(dataframe[start,\"id_\"].==id)\n",
    "    #Extract cell\n",
    "    data = DataFrame()\n",
    "    data.t_ = dataframe[start:stop,\"t_\"]\n",
    "    data.n_ = dataframe[start:stop,\"n_\"]\n",
    "    data.lastId_ = dataframe[start:stop,\"lastId_\"]\n",
    "    for i in [var for var in names(dataCells) if !(var in [\"t_\",\"n_\",\"lastId_\"])]\n",
    "        data[:,i] = [com[pos] for com in dataframe[start:stop,i]]\n",
    "    end\n",
    "    \n",
    "    return data\n",
    "end"
   ]
  },
  {
   "cell_type": "markdown",
   "metadata": {},
   "source": [
    "# Visualization"
   ]
  },
  {
   "cell_type": "code",
   "execution_count": 642,
   "metadata": {},
   "outputs": [
    {
     "ename": "LoadError",
     "evalue": "BoundsError: attempt to access 2000×17 DataFrame\n  at index [2001, \"id_\"]",
     "output_type": "error",
     "traceback": [
      "BoundsError: attempt to access 2000×17 DataFrame\n  at index [2001, \"id_\"]",
      "",
      "Stacktrace:",
      " [1] getindex at /home/gabriel/.julia/packages/DataFrames/X0xNW/src/dataframe/dataframe.jl:407 [inlined]",
      " [2] extractCell(::DataFrame, ::Int64) at ./In[641]:5",
      " [3] top-level scope at ./In[642]:2"
     ]
    }
   ],
   "source": [
    "for i in [1,2,3]\n",
    "    cell=extractCell(dataCells,i)\n",
    "    plot(cell[:,\"t_\"],cell[:,\"x2\"])\n",
    "    plot(cell[:,\"t_\"],cell[:,\"f2\"]./cell[:,\"m\"]*10)\n",
    "    legend([1,1,2,2,3,3])\n",
    "end\n",
    "show()"
   ]
  },
  {
   "cell_type": "markdown",
   "metadata": {},
   "source": [
    "## 3D plot"
   ]
  },
  {
   "cell_type": "code",
   "execution_count": 643,
   "metadata": {},
   "outputs": [
    {
     "data": {
      "text/plain": [
       "visualize (generic function with 1 method)"
      ]
     },
     "execution_count": 643,
     "metadata": {},
     "output_type": "execute_result"
    }
   ],
   "source": [
    "function visualize(data,t,posVars,radiVar)\n",
    "    n = 100\n",
    "    u = range(0,stop=2*π,length=n);\n",
    "    v = range(0,stop=π,length=n);\n",
    "\n",
    "    x = cos.(u) * sin.(v)';\n",
    "    y = sin.(u) * sin.(v)';\n",
    "    z = ones(n) * cos.(v)';\n",
    "    \n",
    "    idCells = data[t,\"id_\"]\n",
    "    for i in idCells\n",
    "        pos = findfirst(idCells.==i)\n",
    "        surf(x.*data[t,radiVar][pos].+data[t,posVars[1]][pos],\n",
    "             y.*data[t,radiVar][pos].+data[t,posVars[2]][pos],\n",
    "             z.*data[t,radiVar][pos].+data[t,posVars[3]][pos],\n",
    "             rstride=4, cstride=4)    \n",
    "    end\n",
    "    \n",
    "    return\n",
    "end"
   ]
  },
  {
   "cell_type": "code",
   "execution_count": 644,
   "metadata": {},
   "outputs": [
    {
     "data": {
      "image/png": "[encoded data removed]",
      "text/plain": [
       "Figure(PyObject <Figure size 640x480 with 1 Axes>)"
      ]
     },
     "metadata": {},
     "output_type": "display_data"
    }
   ],
   "source": [
    "visualize(dataCells,3,[\"x1\",\"x2\",\"x3\"],\"r\")\n",
    "#axis([-1,1,-1,1])\n",
    "show()"
   ]
  }
 ],
 "metadata": {
  "kernelspec": {
   "display_name": "Julia 1.5.0",
   "language": "julia",
   "name": "julia-1.5"
  },
  "language_info": {
   "file_extension": ".jl",
   "mimetype": "application/julia",
   "name": "julia",
   "version": "1.5.3"
  },
  "toc": {
   "base_numbering": 1,
   "nav_menu": {},
   "number_sections": true,
   "sideBar": true,
   "skip_h1_title": false,
   "title_cell": "Table of Contents",
   "title_sidebar": "Contents",
   "toc_cell": false,
   "toc_position": {
    "height": "calc(100% - 180px)",
    "left": "10px",
    "top": "150px",
    "width": "336px"
   },
   "toc_section_display": true,
   "toc_window_display": true
  }
 },
 "nbformat": 4,
 "nbformat_minor": 4
}
