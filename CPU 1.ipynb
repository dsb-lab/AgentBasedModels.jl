{
 "cells": [
  {
   "cell_type": "code",
   "execution_count": 183,
   "metadata": {},
   "outputs": [
    {
     "name": "stderr",
     "output_type": "stream",
     "text": [
      "┌ Info: Precompiling Plots [91a5bcdd-55d7-5caf-9e0b-520d859cae80]\n",
      "└ @ Base loading.jl:1278\n"
     ]
    }
   ],
   "source": [
    "using Random, Distributions\n",
    "using Plots"
   ]
  },
  {
   "cell_type": "code",
   "execution_count": 59,
   "metadata": {},
   "outputs": [],
   "source": [
    "#Parameters that change between cells\n",
    "cell_Jordi = Dict{String,Real}([\n",
    "    (\"x\",0),\n",
    "    (\"x_neighbours\",0),\n",
    "    #Physical\n",
    "    (\"x1\",0),\n",
    "    (\"x2\",0),\n",
    "    (\"x3\",0),\n",
    "    (\"v1\",0),\n",
    "    (\"v2\",0),\n",
    "    (\"v3\",0),\n",
    "    (\"f1\",0),\n",
    "    (\"f2\",0),\n",
    "    (\"f3\",0),\n",
    "    #Shape\n",
    "    (\"r\",0),\n",
    "    (\"m\",0),\n",
    "    #Division\n",
    "    (\"divTime\",0)\n",
    "]);\n",
    "\n",
    "#Parameters that change at the community level\n",
    "community_Jordi = Dict{String,Real}([\n",
    "    (\"n\",0)\n",
    "]);"
   ]
  },
  {
   "cell_type": "code",
   "execution_count": 60,
   "metadata": {},
   "outputs": [
    {
     "data": {
      "text/plain": [
       "2.0"
      ]
     },
     "execution_count": 60,
     "metadata": {},
     "output_type": "execute_result"
    }
   ],
   "source": [
    "#Parameters from the paper\n",
    "\n",
    "α = 10\n",
    "K = 0.9\n",
    "n = 2.\n",
    "m = 2.\n",
    "fRange = 1.2\n",
    "mInitial = 10^-6\n",
    "rInitial = 5\n",
    "b = 10^-6\n",
    "K0 = 10^-4\n",
    "fAdh = 1.5\n",
    "μ = 2\n",
    "τDiv = 10\n",
    "σDiv = 0.5\n",
    "x0 = 3.\n",
    "σX = 0.01\n",
    "Ncirc = 20\n",
    "σNCirc = 0.1\n",
    "fMin = 0.05\n",
    "fMax = 0.95\n",
    "fPre= 0.2\n",
    "fEpi = 0.8\n",
    "τCirc = 45.\n",
    "στCirc = 0.02\n",
    "rESC = 2."
   ]
  },
  {
   "cell_type": "code",
   "execution_count": 168,
   "metadata": {},
   "outputs": [
    {
     "data": {
      "text/plain": [
       "division (generic function with 1 method)"
      ]
     },
     "execution_count": 168,
     "metadata": {},
     "output_type": "execute_result"
    }
   ],
   "source": [
    "#Dynamics\n",
    "variablesMechanics = [\"v1\",\"v2\",\"v3\",\"x1\",\"x2\",\"x3\"]\n",
    "function mechanics(vars,t,cell,community)\n",
    "    v1,v2,v3,x1,x2,x3 = vars\n",
    "    dv1dt = (-b*v1+cell[\"f1\"])/cell[\"m\"]\n",
    "    dv2dt = (-b*v2+cell[\"f2\"])/cell[\"m\"]\n",
    "    dv3dt = (-b*v3+cell[\"f3\"])/cell[\"m\"]\n",
    "    dx1dt = v1\n",
    "    dx2dt = v2\n",
    "    dx3dt = v3\n",
    "    \n",
    "    return [dv1dt,dv2dt,dv3dt,dx1dt,dx2dt,dx3dt]\n",
    "end\n",
    "\n",
    "variablesBiochemistry = [\"x\"]\n",
    "function biochemistry(vars,t,cell,community)\n",
    "    x, = vars\n",
    "    dxdt = α*(1+x^n)^m/((1+x^n)^m+(cell[\"x_neighbours\"]^n/K)^(2*m))-x\n",
    "    return [dxdt]\n",
    "end\n",
    "\n",
    "#Cell-cell neighbours definitions\n",
    "function neighboursDiffusion(cell1,cell2,community)\n",
    "    rij = cell1[\"r\"]+cell2[\"r\"]\n",
    "    d = sqrt((cell1[\"x1\"]-cell2[\"x1\"])^2+(cell1[\"x2\"]-cell2[\"x2\"])^2+(cell1[\"x3\"]-cell2[\"x3\"])^2)\n",
    "    if d < μ*rij\n",
    "        return true\n",
    "    else\n",
    "        return false\n",
    "    end\n",
    "end\n",
    "function neighboursForce(cell1,cell2,community)\n",
    "    rij = cell1[\"r\"]+cell2[\"r\"]\n",
    "    d = sqrt((cell1[\"x1\"]-cell2[\"x1\"])^2+(cell1[\"x2\"]-cell2[\"x2\"])^2+(cell1[\"x3\"]-cell2[\"x3\"])^2)\n",
    "    if d < fRange*rij\n",
    "        return true\n",
    "    else\n",
    "        return false\n",
    "    end\n",
    "end\n",
    "\n",
    "#Cell-cell computations\n",
    "parametersForce = [\"f1\",\"f2\",\"f3\"]\n",
    "function force(cell1,cell2,nNeighbours,community,t)\n",
    "    rij = cell1[\"r\"]+cell2[\"r\"]\n",
    "    d = sqrt((cell1[\"x1\"]-cell2[\"x1\"])^2+(cell1[\"x2\"]-cell2[\"x2\"])^2+(cell1[\"x3\"]-cell2[\"x3\"])^2)\n",
    "    return K0*(rij/d-1)*(μ*rij/d-1)/d.*[cell1[\"x1\"]-cell2[\"x1\"],cell1[\"x2\"]-cell2[\"x2\"],cell1[\"x3\"]-cell2[\"x3\"]]\n",
    "end\n",
    "parametersChemical = [\"x_neighbours\"]\n",
    "function diffussion(cell1,cell2,nNeighbours,community,t)\n",
    "    return cell2[\"x\"]/nNeighbours\n",
    "end\n",
    "\n",
    "#Division condition\n",
    "function divisionCondition(cell,t,community)\n",
    "    return cell[\"divTime\"] < t\n",
    "end\n",
    "\n",
    "#Division\n",
    "divisionParameters = [\"r\",\"m\",\"x1\",\"x2\",\"x3\",\"divTime\"]\n",
    "function division(cellP,cellD1,cellD2,t)\n",
    "    #Update radius\n",
    "    cellD1[\"r\"] = cellP[\"r\"]/2^(1/3)\n",
    "    cellD2[\"r\"] = cellP[\"r\"]/2^(1/3)\n",
    "    #Update mass\n",
    "    cellD1[\"m\"] = cellP[\"m\"]/2\n",
    "    cellD2[\"m\"] = cellP[\"m\"]/2\n",
    "    #Update pos\n",
    "    axis = rand(Normal(0,1),3)\n",
    "    axis = axis/sum(axis)\n",
    "    cellD1[\"x1\"] = cellP[\"x1\"]+axis[1]*cellP[\"r\"]/2\n",
    "    cellD1[\"x2\"] = cellP[\"x2\"]+axis[2]*cellP[\"r\"]/2\n",
    "    cellD1[\"x3\"] = cellP[\"x3\"]+axis[3]*cellP[\"r\"]/2\n",
    "    cellD2[\"x1\"] = cellP[\"x1\"]-axis[1]*cellP[\"r\"]/2\n",
    "    cellD2[\"x2\"] = cellP[\"x2\"]-axis[2]*cellP[\"r\"]/2\n",
    "    cellD2[\"x3\"] = cellP[\"x3\"]-axis[3]*cellP[\"r\"]/2\n",
    "    #Update concentration\n",
    "    asymmetry = rand(Uniform(-σX,σX))\n",
    "    cellD1[\"x\"] = cellP[\"x\"]+asymmetry\n",
    "    cellD2[\"x\"] = cellP[\"x\"]-asymmetry\n",
    "    #Update division time\n",
    "    divTime = rand(Uniform(t+τDiv*(1-σDiv),t+τDiv*(1+σDiv)),2)\n",
    "    cellD1[\"divTime\"] = cellP[\"divTime\"]+divTime[1]\n",
    "    cellD2[\"divTime\"] = cellP[\"divTime\"]+divTime[2]\n",
    "end"
   ]
  },
  {
   "cell_type": "code",
   "execution_count": 169,
   "metadata": {},
   "outputs": [
    {
     "data": {
      "text/plain": [
       "rungeKutta4 (generic function with 1 method)"
      ]
     },
     "execution_count": 169,
     "metadata": {},
     "output_type": "execute_result"
    }
   ],
   "source": [
    "#Integrators\n",
    "function rungeKutta4(variables,f::Function,t,dt,cell,community)\n",
    "    k0 = [cell[i] for i in variables]\n",
    "    k1 = f(k0,t,cell,community)\n",
    "    k2 = f(k0+0.5*k1*dt,t+0.5*dt,cell,community)\n",
    "    k3 = f(k0+0.5*k2*dt,t+0.5*dt,cell,community)\n",
    "    k4 = f(k0+k3*dt,t+dt,cell,community)\n",
    "    return k0+(k1+2*k2+2*k3+k4)*dt/6\n",
    "end"
   ]
  },
  {
   "cell_type": "code",
   "execution_count": 170,
   "metadata": {},
   "outputs": [
    {
     "data": {
      "text/plain": [
       "Dict{String,Real} with 1 entry:\n",
       "  \"n\" => 0"
      ]
     },
     "execution_count": 170,
     "metadata": {},
     "output_type": "execute_result"
    }
   ],
   "source": [
    "community = [copy(cell_Jordi) for i in 1:100];\n",
    "communityParameters = copy(community_Jordi)"
   ]
  },
  {
   "cell_type": "code",
   "execution_count": 171,
   "metadata": {},
   "outputs": [
    {
     "data": {
      "text/plain": [
       "1"
      ]
     },
     "execution_count": 171,
     "metadata": {},
     "output_type": "execute_result"
    }
   ],
   "source": [
    "community[1][\"x\"] = 1\n",
    "community[1][\"x_neighbours\"] = 1\n",
    "community[1][\"x1\"] = 0\n",
    "community[1][\"x2\"] = 0\n",
    "community[1][\"x3\"] = 0\n",
    "community[1][\"v1\"] = 0\n",
    "community[1][\"v2\"] = 0\n",
    "community[1][\"v3\"] = 0\n",
    "community[1][\"f1\"] = 0\n",
    "community[1][\"f2\"] = 0\n",
    "community[1][\"f3\"] = 0\n",
    "community[1][\"r\"] = rInitial\n",
    "community[1][\"m\"] = mInitial\n",
    "community[1][\"divTime\"] = rand(Uniform(τDiv*(1-σDiv),τDiv*(1+σDiv)))\n",
    "\n",
    "communityParameters[\"n\"] = 1"
   ]
  },
  {
   "cell_type": "code",
   "execution_count": 172,
   "metadata": {},
   "outputs": [
    {
     "data": {
      "text/plain": [
       "evolve (generic function with 1 method)"
      ]
     },
     "execution_count": 172,
     "metadata": {},
     "output_type": "execute_result"
    }
   ],
   "source": [
    "function neighbours!(community,communityParameters,nnBioN, nnBio, nnForceN, nnForce)\n",
    "\n",
    "    for i in 1:communityParameters[\"n\"]\n",
    "        #Add themselves\n",
    "        nnBioN[i] = 0\n",
    "        if neighboursDiffusion(community[i],community[i],communityParameters)\n",
    "            nnBioN[i] += 1\n",
    "            nnBio[i,nnBioN[i]] = i\n",
    "        end\n",
    "        nnForceN[i] = 0\n",
    "        if neighboursForce(community[i],community[i],communityParameters)\n",
    "            nnForceN[i] += 1\n",
    "            nnForce[i,nnForceN[i]] = i\n",
    "        end\n",
    "        #Go over the other possible neighbours\n",
    "        for j in (i+1):communityParameters[\"n\"]\n",
    "            if neighboursDiffusion(community[i],community[j],communityParameters)\n",
    "                nnBioN[i] += 1\n",
    "                nnBio[i,nnBioN[i]] = j\n",
    "            end\n",
    "            if neighboursForce(community[i],community[j],communityParameters)\n",
    "                nnForceN[i] += 1\n",
    "                nnForce[i,nnForceN[i]] = j\n",
    "            end\n",
    "        end\n",
    "    end\n",
    "    \n",
    "end\n",
    "\n",
    "function evolve(community,communityParameters,dt,T)\n",
    "    t = 0\n",
    "    communityAux = copy(community)\n",
    "    #Make neighbours\n",
    "    nnBioN = zeros(Int,length(community))\n",
    "    nnBio = zeros(Real,length(community),10)\n",
    "    nnForceN = zeros(Int,length(community))\n",
    "    nnForce = zeros(Real,length(community),10)\n",
    "    dividing = false\n",
    "    dividingList = []\n",
    "    \n",
    "    #Compute neighbours for the first time\n",
    "    neighbours!(community,communityParameters,nnBioN, nnBio, nnForceN, nnForce)\n",
    "        \n",
    "    while t < T\n",
    "        #Evolution of dynamical systems\n",
    "        for i in 1:communityParameters[\"n\"]\n",
    "            aux = rungeKutta4(variablesBiochemistry,biochemistry,t,dt,community[i],communityParameters)\n",
    "            for j in 1:length(variablesBiochemistry)\n",
    "                community[i][variablesBiochemistry[j]] = aux[j]\n",
    "            end\n",
    "        end\n",
    "        for i in 1:communityParameters[\"n\"]\n",
    "            aux = rungeKutta4(variablesMechanics,mechanics,t,dt,community[i],communityParameters)\n",
    "            for j in 1:length(variablesMechanics)\n",
    "                community[i][variablesMechanics[j]] = aux[j]\n",
    "            end\n",
    "        end\n",
    "        #Check division\n",
    "        dividingList = []\n",
    "        for i in 1:communityParameters[\"n\"]\n",
    "            if divisionCondition(community[i],t,communityParameters)\n",
    "                dividing = true\n",
    "                append!(dividingList,i)\n",
    "            end\n",
    "        end\n",
    "        #Compute division\n",
    "        if dividing\n",
    "            n = communityParameters[\"n\"]\n",
    "            for i in 1:length(dividingList)\n",
    "                division(community[i], community[n], community[n+1], t)\n",
    "                for key in keys(community[i])\n",
    "                    if !(key in divisionParameters)\n",
    "                        community[n][key] = community[i][key]\n",
    "                        community[i][key] = community[i][key]\n",
    "                    else\n",
    "                        community[i][key] = community[n][key]                        \n",
    "                    end\n",
    "                end\n",
    "                n += 1\n",
    "            end\n",
    "            communityParameters[\"n\"] = n\n",
    "            dividing = false\n",
    "        end\n",
    "        #Compute neighbours\n",
    "        neighbours!(community,communityParameters,nnBioN, nnBio, nnForceN, nnForce)\n",
    "        \n",
    "        #Compute cell-cell measures\n",
    "        for i in 1:communityParameters[\"n\"]\n",
    "            #Clean para\n",
    "            for key in parametersChemical\n",
    "                communityAux[i][key] = 0\n",
    "            end\n",
    "            #Compute\n",
    "            for j in nnBio\n",
    "                aux = diffussion(community[i],community[i],nnBioN,communityParameters,t)\n",
    "                for k in 1:length(parametersChemical)\n",
    "                    communityAux[i][parametersChemical[k]] += aux[k] \n",
    "                end\n",
    "            end\n",
    "\n",
    "            #Clean\n",
    "            for key in parametersForce\n",
    "                communityAux[i][key] = 0\n",
    "            end\n",
    "            #Compute\n",
    "            for j in nnForce\n",
    "                aux = diffussion(community[i],community[i],nnForceN,communityParameters,t)\n",
    "                for k in 1:length(parametersForce)\n",
    "                    communityAux[i][parametersForce[k]] += aux[k] \n",
    "                end\n",
    "            end\n",
    "        end\n",
    "        for i in 1:communityParameters[\"n\"]\n",
    "            for key in parametersChemical\n",
    "                community[i][key] = communityAux[i][key]\n",
    "            end\n",
    "            for key in parametersForce\n",
    "                community[i][key] = communityAux[i][key]\n",
    "            end\n",
    "        end\n",
    "        t += dt        \n",
    "    end\n",
    "end"
   ]
  },
  {
   "cell_type": "code",
   "execution_count": 173,
   "metadata": {
    "scrolled": true
   },
   "outputs": [],
   "source": [
    "evolve(community, communityParameters, 0.1, 100);"
   ]
  },
  {
   "cell_type": "code",
   "execution_count": 177,
   "metadata": {},
   "outputs": [
    {
     "data": {
      "text/plain": [
       "5-element Array{Float64,1}:\n",
       " 1.677227824676399e8\n",
       " 1.6772277934070176e8\n",
       " 1.677227824676399e8\n",
       " 1.6772277934070176e8\n",
       " 1.7526193736210582e8"
      ]
     },
     "execution_count": 177,
     "metadata": {},
     "output_type": "execute_result"
    }
   ],
   "source": [
    "[community[i][\"x3\"] for i in 1:5]"
   ]
  },
  {
   "cell_type": "code",
   "execution_count": 194,
   "metadata": {},
   "outputs": [],
   "source": [
    "rij = 6\n",
    "l = []\n",
    "for d in 4:0.1:15\n",
    "    append!(l,K0*(rij/d-1)*(μ*rij/d-1))\n",
    "end"
   ]
  },
  {
   "cell_type": "code",
   "execution_count": 195,
   "metadata": {},
   "outputs": [
    {
     "data": {
      "image/svg+xml": [
       "<?xml version=\"1.0\" encoding=\"utf-8\"?>\n",
       "<svg xmlns=\"http://www.w3.org/2000/svg\" xmlns:xlink=\"http://www.w3.org/1999/xlink\" width=\"600\" height=\"400\" viewBox=\"0 0 2400 1600\">\n",
       "<defs>\n",
       "  <clipPath id=\"clip250\">\n",
       "    <rect x=\"0\" y=\"0\" width=\"2400\" height=\"1600\"/>\n",
       "  </clipPath>\n",
       "</defs>\n",
       "<path clip-path=\"url(#clip250)\" d=\"\n",
       "M0 1600 L2400 1600 L2400 0 L0 0  Z\n",
       "  \" fill=\"#ffffff\" fill-rule=\"evenodd\" fill-opacity=\"1\"/>\n",
       "<defs>\n",
       "  <clipPath id=\"clip251\">\n",
       "    <rect x=\"480\" y=\"0\" width=\"1681\" height=\"1600\"/>\n",
       "  </clipPath>\n",
       "</defs>\n",
       "<path clip-path=\"url(#clip250)\" d=\"\n",
       "M282.917 1486.45 L2352.76 1486.45 L2352.76 47.2441 L282.917 47.2441  Z\n",
       "  \" fill=\"#ffffff\" fill-rule=\"evenodd\" fill-opacity=\"1\"/>\n",
       "<defs>\n",
       "  <clipPath id=\"clip252\">\n",
       "    <rect x=\"282\" y=\"47\" width=\"2071\" height=\"1440\"/>\n",
       "  </clipPath>\n",
       "</defs>\n",
       "<polyline clip-path=\"url(#clip252)\" style=\"stroke:#000000; stroke-width:2; stroke-opacity:0.1; fill:none\" points=\"\n",
       "  519.014,1486.45 519.014,47.2441 \n",
       "  \"/>\n",
       "<polyline clip-path=\"url(#clip252)\" style=\"stroke:#000000; stroke-width:2; stroke-opacity:0.1; fill:none\" points=\"\n",
       "  962.804,1486.45 962.804,47.2441 \n",
       "  \"/>\n",
       "<polyline clip-path=\"url(#clip252)\" style=\"stroke:#000000; stroke-width:2; stroke-opacity:0.1; fill:none\" points=\"\n",
       "  1406.59,1486.45 1406.59,47.2441 \n",
       "  \"/>\n",
       "<polyline clip-path=\"url(#clip252)\" style=\"stroke:#000000; stroke-width:2; stroke-opacity:0.1; fill:none\" points=\"\n",
       "  1850.39,1486.45 1850.39,47.2441 \n",
       "  \"/>\n",
       "<polyline clip-path=\"url(#clip252)\" style=\"stroke:#000000; stroke-width:2; stroke-opacity:0.1; fill:none\" points=\"\n",
       "  2294.18,1486.45 2294.18,47.2441 \n",
       "  \"/>\n",
       "<polyline clip-path=\"url(#clip252)\" style=\"stroke:#000000; stroke-width:2; stroke-opacity:0.1; fill:none\" points=\"\n",
       "  282.917,1294.86 2352.76,1294.86 \n",
       "  \"/>\n",
       "<polyline clip-path=\"url(#clip252)\" style=\"stroke:#000000; stroke-width:2; stroke-opacity:0.1; fill:none\" points=\"\n",
       "  282.917,993.136 2352.76,993.136 \n",
       "  \"/>\n",
       "<polyline clip-path=\"url(#clip252)\" style=\"stroke:#000000; stroke-width:2; stroke-opacity:0.1; fill:none\" points=\"\n",
       "  282.917,691.416 2352.76,691.416 \n",
       "  \"/>\n",
       "<polyline clip-path=\"url(#clip252)\" style=\"stroke:#000000; stroke-width:2; stroke-opacity:0.1; fill:none\" points=\"\n",
       "  282.917,389.696 2352.76,389.696 \n",
       "  \"/>\n",
       "<polyline clip-path=\"url(#clip252)\" style=\"stroke:#000000; stroke-width:2; stroke-opacity:0.1; fill:none\" points=\"\n",
       "  282.917,87.9763 2352.76,87.9763 \n",
       "  \"/>\n",
       "<polyline clip-path=\"url(#clip250)\" style=\"stroke:#000000; stroke-width:4; stroke-opacity:1; fill:none\" points=\"\n",
       "  282.917,1486.45 2352.76,1486.45 \n",
       "  \"/>\n",
       "<polyline clip-path=\"url(#clip250)\" style=\"stroke:#000000; stroke-width:4; stroke-opacity:1; fill:none\" points=\"\n",
       "  282.917,1486.45 282.917,47.2441 \n",
       "  \"/>\n",
       "<polyline clip-path=\"url(#clip250)\" style=\"stroke:#000000; stroke-width:4; stroke-opacity:1; fill:none\" points=\"\n",
       "  519.014,1486.45 519.014,1469.18 \n",
       "  \"/>\n",
       "<polyline clip-path=\"url(#clip250)\" style=\"stroke:#000000; stroke-width:4; stroke-opacity:1; fill:none\" points=\"\n",
       "  962.804,1486.45 962.804,1469.18 \n",
       "  \"/>\n",
       "<polyline clip-path=\"url(#clip250)\" style=\"stroke:#000000; stroke-width:4; stroke-opacity:1; fill:none\" points=\"\n",
       "  1406.59,1486.45 1406.59,1469.18 \n",
       "  \"/>\n",
       "<polyline clip-path=\"url(#clip250)\" style=\"stroke:#000000; stroke-width:4; stroke-opacity:1; fill:none\" points=\"\n",
       "  1850.39,1486.45 1850.39,1469.18 \n",
       "  \"/>\n",
       "<polyline clip-path=\"url(#clip250)\" style=\"stroke:#000000; stroke-width:4; stroke-opacity:1; fill:none\" points=\"\n",
       "  2294.18,1486.45 2294.18,1469.18 \n",
       "  \"/>\n",
       "<polyline clip-path=\"url(#clip250)\" style=\"stroke:#000000; stroke-width:4; stroke-opacity:1; fill:none\" points=\"\n",
       "  282.917,1294.86 307.755,1294.86 \n",
       "  \"/>\n",
       "<polyline clip-path=\"url(#clip250)\" style=\"stroke:#000000; stroke-width:4; stroke-opacity:1; fill:none\" points=\"\n",
       "  282.917,993.136 307.755,993.136 \n",
       "  \"/>\n",
       "<polyline clip-path=\"url(#clip250)\" style=\"stroke:#000000; stroke-width:4; stroke-opacity:1; fill:none\" points=\"\n",
       "  282.917,691.416 307.755,691.416 \n",
       "  \"/>\n",
       "<polyline clip-path=\"url(#clip250)\" style=\"stroke:#000000; stroke-width:4; stroke-opacity:1; fill:none\" points=\"\n",
       "  282.917,389.696 307.755,389.696 \n",
       "  \"/>\n",
       "<polyline clip-path=\"url(#clip250)\" style=\"stroke:#000000; stroke-width:4; stroke-opacity:1; fill:none\" points=\"\n",
       "  282.917,87.9763 307.755,87.9763 \n",
       "  \"/>\n",
       "<path clip-path=\"url(#clip250)\" d=\"M 0 0 M490.808 1505.36 L509.164 1505.36 L509.164 1509.3 L495.09 1509.3 L495.09 1517.77 Q496.109 1517.42 497.127 1517.26 Q498.146 1517.07 499.164 1517.07 Q504.951 1517.07 508.331 1520.24 Q511.71 1523.42 511.71 1528.83 Q511.71 1534.41 508.238 1537.51 Q504.766 1540.59 498.447 1540.59 Q496.271 1540.59 494.002 1540.22 Q491.757 1539.85 489.349 1539.11 L489.349 1534.41 Q491.433 1535.54 493.655 1536.1 Q495.877 1536.66 498.354 1536.66 Q502.359 1536.66 504.696 1534.55 Q507.034 1532.44 507.034 1528.83 Q507.034 1525.22 504.696 1523.11 Q502.359 1521.01 498.354 1521.01 Q496.479 1521.01 494.604 1521.42 Q492.752 1521.84 490.808 1522.72 L490.808 1505.36 Z\" fill=\"#000000\" fill-rule=\"evenodd\" fill-opacity=\"1\" /><path clip-path=\"url(#clip250)\" d=\"M 0 0 M516.78 1534.04 L521.664 1534.04 L521.664 1539.92 L516.78 1539.92 L516.78 1534.04 Z\" fill=\"#000000\" fill-rule=\"evenodd\" fill-opacity=\"1\" /><path clip-path=\"url(#clip250)\" d=\"M 0 0 M536.733 1508.44 Q533.122 1508.44 531.294 1512 Q529.488 1515.55 529.488 1522.67 Q529.488 1529.78 531.294 1533.35 Q533.122 1536.89 536.733 1536.89 Q540.368 1536.89 542.173 1533.35 Q544.002 1529.78 544.002 1522.67 Q544.002 1515.55 542.173 1512 Q540.368 1508.44 536.733 1508.44 M536.733 1504.73 Q542.544 1504.73 545.599 1509.34 Q548.678 1513.92 548.678 1522.67 Q548.678 1531.4 545.599 1536.01 Q542.544 1540.59 536.733 1540.59 Q530.923 1540.59 527.845 1536.01 Q524.789 1531.4 524.789 1522.67 Q524.789 1513.92 527.845 1509.34 Q530.923 1504.73 536.733 1504.73 Z\" fill=\"#000000\" fill-rule=\"evenodd\" fill-opacity=\"1\" /><path clip-path=\"url(#clip250)\" d=\"M 0 0 M933.707 1505.36 L955.929 1505.36 L955.929 1507.35 L943.383 1539.92 L938.499 1539.92 L950.304 1509.3 L933.707 1509.3 L933.707 1505.36 Z\" fill=\"#000000\" fill-rule=\"evenodd\" fill-opacity=\"1\" /><path clip-path=\"url(#clip250)\" d=\"M 0 0 M960.999 1534.04 L965.883 1534.04 L965.883 1539.92 L960.999 1539.92 L960.999 1534.04 Z\" fill=\"#000000\" fill-rule=\"evenodd\" fill-opacity=\"1\" /><path clip-path=\"url(#clip250)\" d=\"M 0 0 M970.998 1505.36 L989.355 1505.36 L989.355 1509.3 L975.281 1509.3 L975.281 1517.77 Q976.299 1517.42 977.318 1517.26 Q978.336 1517.07 979.355 1517.07 Q985.142 1517.07 988.522 1520.24 Q991.901 1523.42 991.901 1528.83 Q991.901 1534.41 988.429 1537.51 Q984.957 1540.59 978.637 1540.59 Q976.461 1540.59 974.193 1540.22 Q971.948 1539.85 969.54 1539.11 L969.54 1534.41 Q971.623 1535.54 973.846 1536.1 Q976.068 1536.66 978.545 1536.66 Q982.549 1536.66 984.887 1534.55 Q987.225 1532.44 987.225 1528.83 Q987.225 1525.22 984.887 1523.11 Q982.549 1521.01 978.545 1521.01 Q976.67 1521.01 974.795 1521.42 Q972.943 1521.84 970.998 1522.72 L970.998 1505.36 Z\" fill=\"#000000\" fill-rule=\"evenodd\" fill-opacity=\"1\" /><path clip-path=\"url(#clip250)\" d=\"M 0 0 M1364.99 1535.98 L1372.62 1535.98 L1372.62 1509.62 L1364.31 1511.29 L1364.31 1507.03 L1372.58 1505.36 L1377.25 1505.36 L1377.25 1535.98 L1384.89 1535.98 L1384.89 1539.92 L1364.99 1539.92 L1364.99 1535.98 Z\" fill=\"#000000\" fill-rule=\"evenodd\" fill-opacity=\"1\" /><path clip-path=\"url(#clip250)\" d=\"M 0 0 M1399.96 1508.44 Q1396.35 1508.44 1394.52 1512 Q1392.72 1515.55 1392.72 1522.67 Q1392.72 1529.78 1394.52 1533.35 Q1396.35 1536.89 1399.96 1536.89 Q1403.6 1536.89 1405.4 1533.35 Q1407.23 1529.78 1407.23 1522.67 Q1407.23 1515.55 1405.4 1512 Q1403.6 1508.44 1399.96 1508.44 M1399.96 1504.73 Q1405.77 1504.73 1408.83 1509.34 Q1411.91 1513.92 1411.91 1522.67 Q1411.91 1531.4 1408.83 1536.01 Q1405.77 1540.59 1399.96 1540.59 Q1394.15 1540.59 1391.07 1536.01 Q1388.02 1531.4 1388.02 1522.67 Q1388.02 1513.92 1391.07 1509.34 Q1394.15 1504.73 1399.96 1504.73 Z\" fill=\"#000000\" fill-rule=\"evenodd\" fill-opacity=\"1\" /><path clip-path=\"url(#clip250)\" d=\"M 0 0 M1416.98 1534.04 L1421.86 1534.04 L1421.86 1539.92 L1416.98 1539.92 L1416.98 1534.04 Z\" fill=\"#000000\" fill-rule=\"evenodd\" fill-opacity=\"1\" /><path clip-path=\"url(#clip250)\" d=\"M 0 0 M1436.93 1508.44 Q1433.32 1508.44 1431.49 1512 Q1429.68 1515.55 1429.68 1522.67 Q1429.68 1529.78 1431.49 1533.35 Q1433.32 1536.89 1436.93 1536.89 Q1440.56 1536.89 1442.37 1533.35 Q1444.2 1529.78 1444.2 1522.67 Q1444.2 1515.55 1442.37 1512 Q1440.56 1508.44 1436.93 1508.44 M1436.93 1504.73 Q1442.74 1504.73 1445.8 1509.34 Q1448.87 1513.92 1448.87 1522.67 Q1448.87 1531.4 1445.8 1536.01 Q1442.74 1540.59 1436.93 1540.59 Q1431.12 1540.59 1428.04 1536.01 Q1424.99 1531.4 1424.99 1522.67 Q1424.99 1513.92 1428.04 1509.34 Q1431.12 1504.73 1436.93 1504.73 Z\" fill=\"#000000\" fill-rule=\"evenodd\" fill-opacity=\"1\" /><path clip-path=\"url(#clip250)\" d=\"M 0 0 M1810.07 1535.98 L1817.71 1535.98 L1817.71 1509.62 L1809.4 1511.29 L1809.4 1507.03 L1817.67 1505.36 L1822.34 1505.36 L1822.34 1535.98 L1829.98 1535.98 L1829.98 1539.92 L1810.07 1539.92 L1810.07 1535.98 Z\" fill=\"#000000\" fill-rule=\"evenodd\" fill-opacity=\"1\" /><path clip-path=\"url(#clip250)\" d=\"M 0 0 M1839.08 1535.98 L1855.4 1535.98 L1855.4 1539.92 L1833.45 1539.92 L1833.45 1535.98 Q1836.11 1533.23 1840.7 1528.6 Q1845.3 1523.95 1846.48 1522.61 Q1848.73 1520.08 1849.61 1518.35 Q1850.51 1516.59 1850.51 1514.9 Q1850.51 1512.14 1848.57 1510.41 Q1846.65 1508.67 1843.54 1508.67 Q1841.35 1508.67 1838.89 1509.43 Q1836.46 1510.2 1833.68 1511.75 L1833.68 1507.03 Q1836.51 1505.89 1838.96 1505.31 Q1841.42 1504.73 1843.45 1504.73 Q1848.82 1504.73 1852.02 1507.42 Q1855.21 1510.11 1855.21 1514.6 Q1855.21 1516.73 1854.4 1518.65 Q1853.61 1520.54 1851.51 1523.14 Q1850.93 1523.81 1847.83 1527.03 Q1844.73 1530.22 1839.08 1535.98 Z\" fill=\"#000000\" fill-rule=\"evenodd\" fill-opacity=\"1\" /><path clip-path=\"url(#clip250)\" d=\"M 0 0 M1860.47 1534.04 L1865.35 1534.04 L1865.35 1539.92 L1860.47 1539.92 L1860.47 1534.04 Z\" fill=\"#000000\" fill-rule=\"evenodd\" fill-opacity=\"1\" /><path clip-path=\"url(#clip250)\" d=\"M 0 0 M1870.47 1505.36 L1888.82 1505.36 L1888.82 1509.3 L1874.75 1509.3 L1874.75 1517.77 Q1875.77 1517.42 1876.79 1517.26 Q1877.8 1517.07 1878.82 1517.07 Q1884.61 1517.07 1887.99 1520.24 Q1891.37 1523.42 1891.37 1528.83 Q1891.37 1534.41 1887.9 1537.51 Q1884.42 1540.59 1878.1 1540.59 Q1875.93 1540.59 1873.66 1540.22 Q1871.42 1539.85 1869.01 1539.11 L1869.01 1534.41 Q1871.09 1535.54 1873.31 1536.1 Q1875.54 1536.66 1878.01 1536.66 Q1882.02 1536.66 1884.35 1534.55 Q1886.69 1532.44 1886.69 1528.83 Q1886.69 1525.22 1884.35 1523.11 Q1882.02 1521.01 1878.01 1521.01 Q1876.14 1521.01 1874.26 1521.42 Q1872.41 1521.84 1870.47 1522.72 L1870.47 1505.36 Z\" fill=\"#000000\" fill-rule=\"evenodd\" fill-opacity=\"1\" /><path clip-path=\"url(#clip250)\" d=\"M 0 0 M2253.06 1535.98 L2260.7 1535.98 L2260.7 1509.62 L2252.39 1511.29 L2252.39 1507.03 L2260.66 1505.36 L2265.33 1505.36 L2265.33 1535.98 L2272.97 1535.98 L2272.97 1539.92 L2253.06 1539.92 L2253.06 1535.98 Z\" fill=\"#000000\" fill-rule=\"evenodd\" fill-opacity=\"1\" /><path clip-path=\"url(#clip250)\" d=\"M 0 0 M2278.09 1505.36 L2296.44 1505.36 L2296.44 1509.3 L2282.37 1509.3 L2282.37 1517.77 Q2283.39 1517.42 2284.41 1517.26 Q2285.43 1517.07 2286.44 1517.07 Q2292.23 1517.07 2295.61 1520.24 Q2298.99 1523.42 2298.99 1528.83 Q2298.99 1534.41 2295.52 1537.51 Q2292.05 1540.59 2285.73 1540.59 Q2283.55 1540.59 2281.28 1540.22 Q2279.04 1539.85 2276.63 1539.11 L2276.63 1534.41 Q2278.71 1535.54 2280.93 1536.1 Q2283.16 1536.66 2285.63 1536.66 Q2289.64 1536.66 2291.98 1534.55 Q2294.31 1532.44 2294.31 1528.83 Q2294.31 1525.22 2291.98 1523.11 Q2289.64 1521.01 2285.63 1521.01 Q2283.76 1521.01 2281.88 1521.42 Q2280.03 1521.84 2278.09 1522.72 L2278.09 1505.36 Z\" fill=\"#000000\" fill-rule=\"evenodd\" fill-opacity=\"1\" /><path clip-path=\"url(#clip250)\" d=\"M 0 0 M2304.06 1534.04 L2308.94 1534.04 L2308.94 1539.92 L2304.06 1539.92 L2304.06 1534.04 Z\" fill=\"#000000\" fill-rule=\"evenodd\" fill-opacity=\"1\" /><path clip-path=\"url(#clip250)\" d=\"M 0 0 M2324.01 1508.44 Q2320.4 1508.44 2318.57 1512 Q2316.77 1515.55 2316.77 1522.67 Q2316.77 1529.78 2318.57 1533.35 Q2320.4 1536.89 2324.01 1536.89 Q2327.65 1536.89 2329.45 1533.35 Q2331.28 1529.78 2331.28 1522.67 Q2331.28 1515.55 2329.45 1512 Q2327.65 1508.44 2324.01 1508.44 M2324.01 1504.73 Q2329.82 1504.73 2332.88 1509.34 Q2335.96 1513.92 2335.96 1522.67 Q2335.96 1531.4 2332.88 1536.01 Q2329.82 1540.59 2324.01 1540.59 Q2318.2 1540.59 2315.12 1536.01 Q2312.07 1531.4 2312.07 1522.67 Q2312.07 1513.92 2315.12 1509.34 Q2318.2 1504.73 2324.01 1504.73 Z\" fill=\"#000000\" fill-rule=\"evenodd\" fill-opacity=\"1\" /><path clip-path=\"url(#clip250)\" d=\"M 0 0 M74.9365 1280.65 Q71.3254 1280.65 69.4967 1284.22 Q67.6912 1287.76 67.6912 1294.89 Q67.6912 1302 69.4967 1305.56 Q71.3254 1309.1 74.9365 1309.1 Q78.5707 1309.1 80.3763 1305.56 Q82.205 1302 82.205 1294.89 Q82.205 1287.76 80.3763 1284.22 Q78.5707 1280.65 74.9365 1280.65 M74.9365 1276.95 Q80.7467 1276.95 83.8022 1281.56 Q86.8809 1286.14 86.8809 1294.89 Q86.8809 1303.62 83.8022 1308.22 Q80.7467 1312.81 74.9365 1312.81 Q69.1264 1312.81 66.0477 1308.22 Q62.9921 1303.62 62.9921 1294.89 Q62.9921 1286.14 66.0477 1281.56 Q69.1264 1276.95 74.9365 1276.95 Z\" fill=\"#000000\" fill-rule=\"evenodd\" fill-opacity=\"1\" /><path clip-path=\"url(#clip250)\" d=\"M 0 0 M91.9503 1306.26 L96.8345 1306.26 L96.8345 1312.14 L91.9503 1312.14 L91.9503 1306.26 Z\" fill=\"#000000\" fill-rule=\"evenodd\" fill-opacity=\"1\" /><path clip-path=\"url(#clip250)\" d=\"M 0 0 M111.904 1280.65 Q108.293 1280.65 106.464 1284.22 Q104.659 1287.76 104.659 1294.89 Q104.659 1302 106.464 1305.56 Q108.293 1309.1 111.904 1309.1 Q115.538 1309.1 117.344 1305.56 Q119.172 1302 119.172 1294.89 Q119.172 1287.76 117.344 1284.22 Q115.538 1280.65 111.904 1280.65 M111.904 1276.95 Q117.714 1276.95 120.77 1281.56 Q123.848 1286.14 123.848 1294.89 Q123.848 1303.62 120.77 1308.22 Q117.714 1312.81 111.904 1312.81 Q106.094 1312.81 103.015 1308.22 Q99.9595 1303.62 99.9595 1294.89 Q99.9595 1286.14 103.015 1281.56 Q106.094 1276.95 111.904 1276.95 Z\" fill=\"#000000\" fill-rule=\"evenodd\" fill-opacity=\"1\" /><path clip-path=\"url(#clip250)\" d=\"M 0 0 M138.918 1280.65 Q135.307 1280.65 133.478 1284.22 Q131.672 1287.76 131.672 1294.89 Q131.672 1302 133.478 1305.56 Q135.307 1309.1 138.918 1309.1 Q142.552 1309.1 144.357 1305.56 Q146.186 1302 146.186 1294.89 Q146.186 1287.76 144.357 1284.22 Q142.552 1280.65 138.918 1280.65 M138.918 1276.95 Q144.728 1276.95 147.783 1281.56 Q150.862 1286.14 150.862 1294.89 Q150.862 1303.62 147.783 1308.22 Q144.728 1312.81 138.918 1312.81 Q133.107 1312.81 130.029 1308.22 Q126.973 1303.62 126.973 1294.89 Q126.973 1286.14 130.029 1281.56 Q133.107 1276.95 138.918 1276.95 Z\" fill=\"#000000\" fill-rule=\"evenodd\" fill-opacity=\"1\" /><path clip-path=\"url(#clip250)\" d=\"M 0 0 M165.931 1280.65 Q162.32 1280.65 160.492 1284.22 Q158.686 1287.76 158.686 1294.89 Q158.686 1302 160.492 1305.56 Q162.32 1309.1 165.931 1309.1 Q169.566 1309.1 171.371 1305.56 Q173.2 1302 173.2 1294.89 Q173.2 1287.76 171.371 1284.22 Q169.566 1280.65 165.931 1280.65 M165.931 1276.95 Q171.742 1276.95 174.797 1281.56 Q177.876 1286.14 177.876 1294.89 Q177.876 1303.62 174.797 1308.22 Q171.742 1312.81 165.931 1312.81 Q160.121 1312.81 157.043 1308.22 Q153.987 1303.62 153.987 1294.89 Q153.987 1286.14 157.043 1281.56 Q160.121 1276.95 165.931 1276.95 Z\" fill=\"#000000\" fill-rule=\"evenodd\" fill-opacity=\"1\" /><path clip-path=\"url(#clip250)\" d=\"M 0 0 M192.945 1280.65 Q189.334 1280.65 187.505 1284.22 Q185.7 1287.76 185.7 1294.89 Q185.7 1302 187.505 1305.56 Q189.334 1309.1 192.945 1309.1 Q196.579 1309.1 198.385 1305.56 Q200.214 1302 200.214 1294.89 Q200.214 1287.76 198.385 1284.22 Q196.579 1280.65 192.945 1280.65 M192.945 1276.95 Q198.755 1276.95 201.811 1281.56 Q204.89 1286.14 204.89 1294.89 Q204.89 1303.62 201.811 1308.22 Q198.755 1312.81 192.945 1312.81 Q187.135 1312.81 184.056 1308.22 Q181.001 1303.62 181.001 1294.89 Q181.001 1286.14 184.056 1281.56 Q187.135 1276.95 192.945 1276.95 Z\" fill=\"#000000\" fill-rule=\"evenodd\" fill-opacity=\"1\" /><path clip-path=\"url(#clip250)\" d=\"M 0 0 M219.959 1280.65 Q216.348 1280.65 214.519 1284.22 Q212.714 1287.76 212.714 1294.89 Q212.714 1302 214.519 1305.56 Q216.348 1309.1 219.959 1309.1 Q223.593 1309.1 225.399 1305.56 Q227.227 1302 227.227 1294.89 Q227.227 1287.76 225.399 1284.22 Q223.593 1280.65 219.959 1280.65 M219.959 1276.95 Q225.769 1276.95 228.825 1281.56 Q231.903 1286.14 231.903 1294.89 Q231.903 1303.62 228.825 1308.22 Q225.769 1312.81 219.959 1312.81 Q214.149 1312.81 211.07 1308.22 Q208.014 1303.62 208.014 1294.89 Q208.014 1286.14 211.07 1281.56 Q214.149 1276.95 219.959 1276.95 Z\" fill=\"#000000\" fill-rule=\"evenodd\" fill-opacity=\"1\" /><path clip-path=\"url(#clip250)\" d=\"M 0 0 M246.973 1280.65 Q243.362 1280.65 241.533 1284.22 Q239.727 1287.76 239.727 1294.89 Q239.727 1302 241.533 1305.56 Q243.362 1309.1 246.973 1309.1 Q250.607 1309.1 252.412 1305.56 Q254.241 1302 254.241 1294.89 Q254.241 1287.76 252.412 1284.22 Q250.607 1280.65 246.973 1280.65 M246.973 1276.95 Q252.783 1276.95 255.838 1281.56 Q258.917 1286.14 258.917 1294.89 Q258.917 1303.62 255.838 1308.22 Q252.783 1312.81 246.973 1312.81 Q241.162 1312.81 238.084 1308.22 Q235.028 1303.62 235.028 1294.89 Q235.028 1286.14 238.084 1281.56 Q241.162 1276.95 246.973 1276.95 Z\" fill=\"#000000\" fill-rule=\"evenodd\" fill-opacity=\"1\" /><path clip-path=\"url(#clip250)\" d=\"M 0 0 M77.5291 978.935 Q73.918 978.935 72.0893 982.499 Q70.2838 986.041 70.2838 993.171 Q70.2838 1000.28 72.0893 1003.84 Q73.918 1007.38 77.5291 1007.38 Q81.1633 1007.38 82.9689 1003.84 Q84.7976 1000.28 84.7976 993.171 Q84.7976 986.041 82.9689 982.499 Q81.1633 978.935 77.5291 978.935 M77.5291 975.231 Q83.3392 975.231 86.3948 979.837 Q89.4735 984.421 89.4735 993.171 Q89.4735 1001.9 86.3948 1006.5 Q83.3392 1011.09 77.5291 1011.09 Q71.7189 1011.09 68.6402 1006.5 Q65.5847 1001.9 65.5847 993.171 Q65.5847 984.421 68.6402 979.837 Q71.7189 975.231 77.5291 975.231 Z\" fill=\"#000000\" fill-rule=\"evenodd\" fill-opacity=\"1\" /><path clip-path=\"url(#clip250)\" d=\"M 0 0 M94.5429 1004.54 L99.4271 1004.54 L99.4271 1010.42 L94.5429 1010.42 L94.5429 1004.54 Z\" fill=\"#000000\" fill-rule=\"evenodd\" fill-opacity=\"1\" /><path clip-path=\"url(#clip250)\" d=\"M 0 0 M114.496 978.935 Q110.885 978.935 109.057 982.499 Q107.251 986.041 107.251 993.171 Q107.251 1000.28 109.057 1003.84 Q110.885 1007.38 114.496 1007.38 Q118.131 1007.38 119.936 1003.84 Q121.765 1000.28 121.765 993.171 Q121.765 986.041 119.936 982.499 Q118.131 978.935 114.496 978.935 M114.496 975.231 Q120.307 975.231 123.362 979.837 Q126.441 984.421 126.441 993.171 Q126.441 1001.9 123.362 1006.5 Q120.307 1011.09 114.496 1011.09 Q108.686 1011.09 105.608 1006.5 Q102.552 1001.9 102.552 993.171 Q102.552 984.421 105.608 979.837 Q108.686 975.231 114.496 975.231 Z\" fill=\"#000000\" fill-rule=\"evenodd\" fill-opacity=\"1\" /><path clip-path=\"url(#clip250)\" d=\"M 0 0 M141.51 978.935 Q137.899 978.935 136.07 982.499 Q134.265 986.041 134.265 993.171 Q134.265 1000.28 136.07 1003.84 Q137.899 1007.38 141.51 1007.38 Q145.144 1007.38 146.95 1003.84 Q148.779 1000.28 148.779 993.171 Q148.779 986.041 146.95 982.499 Q145.144 978.935 141.51 978.935 M141.51 975.231 Q147.32 975.231 150.376 979.837 Q153.455 984.421 153.455 993.171 Q153.455 1001.9 150.376 1006.5 Q147.32 1011.09 141.51 1011.09 Q135.7 1011.09 132.621 1006.5 Q129.566 1001.9 129.566 993.171 Q129.566 984.421 132.621 979.837 Q135.7 975.231 141.51 975.231 Z\" fill=\"#000000\" fill-rule=\"evenodd\" fill-opacity=\"1\" /><path clip-path=\"url(#clip250)\" d=\"M 0 0 M168.524 978.935 Q164.913 978.935 163.084 982.499 Q161.279 986.041 161.279 993.171 Q161.279 1000.28 163.084 1003.84 Q164.913 1007.38 168.524 1007.38 Q172.158 1007.38 173.964 1003.84 Q175.792 1000.28 175.792 993.171 Q175.792 986.041 173.964 982.499 Q172.158 978.935 168.524 978.935 M168.524 975.231 Q174.334 975.231 177.39 979.837 Q180.468 984.421 180.468 993.171 Q180.468 1001.9 177.39 1006.5 Q174.334 1011.09 168.524 1011.09 Q162.714 1011.09 159.635 1006.5 Q156.58 1001.9 156.58 993.171 Q156.58 984.421 159.635 979.837 Q162.714 975.231 168.524 975.231 Z\" fill=\"#000000\" fill-rule=\"evenodd\" fill-opacity=\"1\" /><path clip-path=\"url(#clip250)\" d=\"M 0 0 M195.538 978.935 Q191.927 978.935 190.098 982.499 Q188.292 986.041 188.292 993.171 Q188.292 1000.28 190.098 1003.84 Q191.927 1007.38 195.538 1007.38 Q199.172 1007.38 200.977 1003.84 Q202.806 1000.28 202.806 993.171 Q202.806 986.041 200.977 982.499 Q199.172 978.935 195.538 978.935 M195.538 975.231 Q201.348 975.231 204.403 979.837 Q207.482 984.421 207.482 993.171 Q207.482 1001.9 204.403 1006.5 Q201.348 1011.09 195.538 1011.09 Q189.728 1011.09 186.649 1006.5 Q183.593 1001.9 183.593 993.171 Q183.593 984.421 186.649 979.837 Q189.728 975.231 195.538 975.231 Z\" fill=\"#000000\" fill-rule=\"evenodd\" fill-opacity=\"1\" /><path clip-path=\"url(#clip250)\" d=\"M 0 0 M216.579 1006.48 L232.899 1006.48 L232.899 1010.42 L210.954 1010.42 L210.954 1006.48 Q213.616 1003.73 218.2 999.097 Q222.806 994.444 223.987 993.101 Q226.232 990.578 227.112 988.842 Q228.014 987.083 228.014 985.393 Q228.014 982.638 226.07 980.902 Q224.149 979.166 221.047 979.166 Q218.848 979.166 216.394 979.93 Q213.964 980.694 211.186 982.245 L211.186 977.523 Q214.01 976.388 216.464 975.81 Q218.917 975.231 220.954 975.231 Q226.325 975.231 229.519 977.916 Q232.713 980.601 232.713 985.092 Q232.713 987.222 231.903 989.143 Q231.116 991.041 229.01 993.634 Q228.431 994.305 225.329 997.522 Q222.227 1000.72 216.579 1006.48 Z\" fill=\"#000000\" fill-rule=\"evenodd\" fill-opacity=\"1\" /><path clip-path=\"url(#clip250)\" d=\"M 0 0 M238.014 975.856 L256.371 975.856 L256.371 979.791 L242.297 979.791 L242.297 988.263 Q243.315 987.916 244.334 987.754 Q245.352 987.569 246.371 987.569 Q252.158 987.569 255.537 990.74 Q258.917 993.911 258.917 999.328 Q258.917 1004.91 255.445 1008.01 Q251.973 1011.09 245.653 1011.09 Q243.477 1011.09 241.209 1010.72 Q238.963 1010.35 236.556 1009.61 L236.556 1004.91 Q238.639 1006.04 240.862 1006.6 Q243.084 1007.15 245.561 1007.15 Q249.565 1007.15 251.903 1005.05 Q254.241 1002.94 254.241 999.328 Q254.241 995.717 251.903 993.61 Q249.565 991.504 245.561 991.504 Q243.686 991.504 241.811 991.921 Q239.959 992.337 238.014 993.217 L238.014 975.856 Z\" fill=\"#000000\" fill-rule=\"evenodd\" fill-opacity=\"1\" /><path clip-path=\"url(#clip250)\" d=\"M 0 0 M75.9319 677.215 Q72.3208 677.215 70.4921 680.779 Q68.6865 684.321 68.6865 691.451 Q68.6865 698.557 70.4921 702.122 Q72.3208 705.664 75.9319 705.664 Q79.5661 705.664 81.3717 702.122 Q83.2004 698.557 83.2004 691.451 Q83.2004 684.321 81.3717 680.779 Q79.5661 677.215 75.9319 677.215 M75.9319 673.511 Q81.742 673.511 84.7976 678.117 Q87.8763 682.701 87.8763 691.451 Q87.8763 700.178 84.7976 704.784 Q81.742 709.367 75.9319 709.367 Q70.1217 709.367 67.043 704.784 Q63.9875 700.178 63.9875 691.451 Q63.9875 682.701 67.043 678.117 Q70.1217 673.511 75.9319 673.511 Z\" fill=\"#000000\" fill-rule=\"evenodd\" fill-opacity=\"1\" /><path clip-path=\"url(#clip250)\" d=\"M 0 0 M92.9457 702.816 L97.8299 702.816 L97.8299 708.696 L92.9457 708.696 L92.9457 702.816 Z\" fill=\"#000000\" fill-rule=\"evenodd\" fill-opacity=\"1\" /><path clip-path=\"url(#clip250)\" d=\"M 0 0 M112.899 677.215 Q109.288 677.215 107.459 680.779 Q105.654 684.321 105.654 691.451 Q105.654 698.557 107.459 702.122 Q109.288 705.664 112.899 705.664 Q116.534 705.664 118.339 702.122 Q120.168 698.557 120.168 691.451 Q120.168 684.321 118.339 680.779 Q116.534 677.215 112.899 677.215 M112.899 673.511 Q118.709 673.511 121.765 678.117 Q124.844 682.701 124.844 691.451 Q124.844 700.178 121.765 704.784 Q118.709 709.367 112.899 709.367 Q107.089 709.367 104.01 704.784 Q100.955 700.178 100.955 691.451 Q100.955 682.701 104.01 678.117 Q107.089 673.511 112.899 673.511 Z\" fill=\"#000000\" fill-rule=\"evenodd\" fill-opacity=\"1\" /><path clip-path=\"url(#clip250)\" d=\"M 0 0 M139.913 677.215 Q136.302 677.215 134.473 680.779 Q132.668 684.321 132.668 691.451 Q132.668 698.557 134.473 702.122 Q136.302 705.664 139.913 705.664 Q143.547 705.664 145.353 702.122 Q147.181 698.557 147.181 691.451 Q147.181 684.321 145.353 680.779 Q143.547 677.215 139.913 677.215 M139.913 673.511 Q145.723 673.511 148.779 678.117 Q151.857 682.701 151.857 691.451 Q151.857 700.178 148.779 704.784 Q145.723 709.367 139.913 709.367 Q134.103 709.367 131.024 704.784 Q127.969 700.178 127.969 691.451 Q127.969 682.701 131.024 678.117 Q134.103 673.511 139.913 673.511 Z\" fill=\"#000000\" fill-rule=\"evenodd\" fill-opacity=\"1\" /><path clip-path=\"url(#clip250)\" d=\"M 0 0 M166.927 677.215 Q163.316 677.215 161.487 680.779 Q159.681 684.321 159.681 691.451 Q159.681 698.557 161.487 702.122 Q163.316 705.664 166.927 705.664 Q170.561 705.664 172.367 702.122 Q174.195 698.557 174.195 691.451 Q174.195 684.321 172.367 680.779 Q170.561 677.215 166.927 677.215 M166.927 673.511 Q172.737 673.511 175.792 678.117 Q178.871 682.701 178.871 691.451 Q178.871 700.178 175.792 704.784 Q172.737 709.367 166.927 709.367 Q161.117 709.367 158.038 704.784 Q154.982 700.178 154.982 691.451 Q154.982 682.701 158.038 678.117 Q161.117 673.511 166.927 673.511 Z\" fill=\"#000000\" fill-rule=\"evenodd\" fill-opacity=\"1\" /><path clip-path=\"url(#clip250)\" d=\"M 0 0 M193.94 677.215 Q190.329 677.215 188.501 680.779 Q186.695 684.321 186.695 691.451 Q186.695 698.557 188.501 702.122 Q190.329 705.664 193.94 705.664 Q197.575 705.664 199.38 702.122 Q201.209 698.557 201.209 691.451 Q201.209 684.321 199.38 680.779 Q197.575 677.215 193.94 677.215 M193.94 673.511 Q199.751 673.511 202.806 678.117 Q205.885 682.701 205.885 691.451 Q205.885 700.178 202.806 704.784 Q199.751 709.367 193.94 709.367 Q188.13 709.367 185.052 704.784 Q181.996 700.178 181.996 691.451 Q181.996 682.701 185.052 678.117 Q188.13 673.511 193.94 673.511 Z\" fill=\"#000000\" fill-rule=\"evenodd\" fill-opacity=\"1\" /><path clip-path=\"url(#clip250)\" d=\"M 0 0 M211.001 674.136 L229.357 674.136 L229.357 678.071 L215.283 678.071 L215.283 686.543 Q216.301 686.196 217.32 686.034 Q218.339 685.849 219.357 685.849 Q225.144 685.849 228.524 689.02 Q231.903 692.191 231.903 697.608 Q231.903 703.187 228.431 706.289 Q224.959 709.367 218.639 709.367 Q216.464 709.367 214.195 708.997 Q211.95 708.627 209.542 707.886 L209.542 703.187 Q211.626 704.321 213.848 704.877 Q216.07 705.432 218.547 705.432 Q222.551 705.432 224.889 703.326 Q227.227 701.219 227.227 697.608 Q227.227 693.997 224.889 691.891 Q222.551 689.784 218.547 689.784 Q216.672 689.784 214.797 690.201 Q212.945 690.617 211.001 691.497 L211.001 674.136 Z\" fill=\"#000000\" fill-rule=\"evenodd\" fill-opacity=\"1\" /><path clip-path=\"url(#clip250)\" d=\"M 0 0 M246.973 677.215 Q243.362 677.215 241.533 680.779 Q239.727 684.321 239.727 691.451 Q239.727 698.557 241.533 702.122 Q243.362 705.664 246.973 705.664 Q250.607 705.664 252.412 702.122 Q254.241 698.557 254.241 691.451 Q254.241 684.321 252.412 680.779 Q250.607 677.215 246.973 677.215 M246.973 673.511 Q252.783 673.511 255.838 678.117 Q258.917 682.701 258.917 691.451 Q258.917 700.178 255.838 704.784 Q252.783 709.367 246.973 709.367 Q241.162 709.367 238.084 704.784 Q235.028 700.178 235.028 691.451 Q235.028 682.701 238.084 678.117 Q241.162 673.511 246.973 673.511 Z\" fill=\"#000000\" fill-rule=\"evenodd\" fill-opacity=\"1\" /><path clip-path=\"url(#clip250)\" d=\"M 0 0 M76.8346 375.495 Q73.2236 375.495 71.3949 379.06 Q69.5893 382.601 69.5893 389.731 Q69.5893 396.837 71.3949 400.402 Q73.2236 403.944 76.8346 403.944 Q80.4689 403.944 82.2744 400.402 Q84.1031 396.837 84.1031 389.731 Q84.1031 382.601 82.2744 379.06 Q80.4689 375.495 76.8346 375.495 M76.8346 371.791 Q82.6448 371.791 85.7003 376.398 Q88.779 380.981 88.779 389.731 Q88.779 398.458 85.7003 403.064 Q82.6448 407.647 76.8346 407.647 Q71.0245 407.647 67.9458 403.064 Q64.8903 398.458 64.8903 389.731 Q64.8903 380.981 67.9458 376.398 Q71.0245 371.791 76.8346 371.791 Z\" fill=\"#000000\" fill-rule=\"evenodd\" fill-opacity=\"1\" /><path clip-path=\"url(#clip250)\" d=\"M 0 0 M93.8484 401.097 L98.7327 401.097 L98.7327 406.976 L93.8484 406.976 L93.8484 401.097 Z\" fill=\"#000000\" fill-rule=\"evenodd\" fill-opacity=\"1\" /><path clip-path=\"url(#clip250)\" d=\"M 0 0 M113.802 375.495 Q110.191 375.495 108.362 379.06 Q106.557 382.601 106.557 389.731 Q106.557 396.837 108.362 400.402 Q110.191 403.944 113.802 403.944 Q117.436 403.944 119.242 400.402 Q121.071 396.837 121.071 389.731 Q121.071 382.601 119.242 379.06 Q117.436 375.495 113.802 375.495 M113.802 371.791 Q119.612 371.791 122.668 376.398 Q125.746 380.981 125.746 389.731 Q125.746 398.458 122.668 403.064 Q119.612 407.647 113.802 407.647 Q107.992 407.647 104.913 403.064 Q101.858 398.458 101.858 389.731 Q101.858 380.981 104.913 376.398 Q107.992 371.791 113.802 371.791 Z\" fill=\"#000000\" fill-rule=\"evenodd\" fill-opacity=\"1\" /><path clip-path=\"url(#clip250)\" d=\"M 0 0 M140.816 375.495 Q137.205 375.495 135.376 379.06 Q133.57 382.601 133.57 389.731 Q133.57 396.837 135.376 400.402 Q137.205 403.944 140.816 403.944 Q144.45 403.944 146.256 400.402 Q148.084 396.837 148.084 389.731 Q148.084 382.601 146.256 379.06 Q144.45 375.495 140.816 375.495 M140.816 371.791 Q146.626 371.791 149.681 376.398 Q152.76 380.981 152.76 389.731 Q152.76 398.458 149.681 403.064 Q146.626 407.647 140.816 407.647 Q135.006 407.647 131.927 403.064 Q128.871 398.458 128.871 389.731 Q128.871 380.981 131.927 376.398 Q135.006 371.791 140.816 371.791 Z\" fill=\"#000000\" fill-rule=\"evenodd\" fill-opacity=\"1\" /><path clip-path=\"url(#clip250)\" d=\"M 0 0 M167.83 375.495 Q164.218 375.495 162.39 379.06 Q160.584 382.601 160.584 389.731 Q160.584 396.837 162.39 400.402 Q164.218 403.944 167.83 403.944 Q171.464 403.944 173.269 400.402 Q175.098 396.837 175.098 389.731 Q175.098 382.601 173.269 379.06 Q171.464 375.495 167.83 375.495 M167.83 371.791 Q173.64 371.791 176.695 376.398 Q179.774 380.981 179.774 389.731 Q179.774 398.458 176.695 403.064 Q173.64 407.647 167.83 407.647 Q162.019 407.647 158.941 403.064 Q155.885 398.458 155.885 389.731 Q155.885 380.981 158.941 376.398 Q162.019 371.791 167.83 371.791 Z\" fill=\"#000000\" fill-rule=\"evenodd\" fill-opacity=\"1\" /><path clip-path=\"url(#clip250)\" d=\"M 0 0 M194.843 375.495 Q191.232 375.495 189.403 379.06 Q187.598 382.601 187.598 389.731 Q187.598 396.837 189.403 400.402 Q191.232 403.944 194.843 403.944 Q198.478 403.944 200.283 400.402 Q202.112 396.837 202.112 389.731 Q202.112 382.601 200.283 379.06 Q198.478 375.495 194.843 375.495 M194.843 371.791 Q200.653 371.791 203.709 376.398 Q206.788 380.981 206.788 389.731 Q206.788 398.458 203.709 403.064 Q200.653 407.647 194.843 407.647 Q189.033 407.647 185.954 403.064 Q182.899 398.458 182.899 389.731 Q182.899 380.981 185.954 376.398 Q189.033 371.791 194.843 371.791 Z\" fill=\"#000000\" fill-rule=\"evenodd\" fill-opacity=\"1\" /><path clip-path=\"url(#clip250)\" d=\"M 0 0 M210.677 372.416 L232.899 372.416 L232.899 374.407 L220.352 406.976 L215.468 406.976 L227.274 376.351 L210.677 376.351 L210.677 372.416 Z\" fill=\"#000000\" fill-rule=\"evenodd\" fill-opacity=\"1\" /><path clip-path=\"url(#clip250)\" d=\"M 0 0 M238.014 372.416 L256.371 372.416 L256.371 376.351 L242.297 376.351 L242.297 384.823 Q243.315 384.476 244.334 384.314 Q245.352 384.129 246.371 384.129 Q252.158 384.129 255.537 387.3 Q258.917 390.472 258.917 395.888 Q258.917 401.467 255.445 404.569 Q251.973 407.647 245.653 407.647 Q243.477 407.647 241.209 407.277 Q238.963 406.907 236.556 406.166 L236.556 401.467 Q238.639 402.601 240.862 403.157 Q243.084 403.712 245.561 403.712 Q249.565 403.712 251.903 401.606 Q254.241 399.499 254.241 395.888 Q254.241 392.277 251.903 390.171 Q249.565 388.064 245.561 388.064 Q243.686 388.064 241.811 388.481 Q239.959 388.898 238.014 389.777 L238.014 372.416 Z\" fill=\"#000000\" fill-rule=\"evenodd\" fill-opacity=\"1\" /><path clip-path=\"url(#clip250)\" d=\"M 0 0 M76.1634 73.775 Q72.5523 73.775 70.7236 77.3398 Q68.918 80.8814 68.918 88.011 Q68.918 95.1174 70.7236 98.6822 Q72.5523 102.224 76.1634 102.224 Q79.7976 102.224 81.6031 98.6822 Q83.4318 95.1174 83.4318 88.011 Q83.4318 80.8814 81.6031 77.3398 Q79.7976 73.775 76.1634 73.775 M76.1634 70.0713 Q81.9735 70.0713 85.029 74.6777 Q88.1077 79.261 88.1077 88.011 Q88.1077 96.7378 85.029 101.344 Q81.9735 105.928 76.1634 105.928 Q70.3532 105.928 67.2745 101.344 Q64.219 96.7378 64.219 88.011 Q64.219 79.261 67.2745 74.6777 Q70.3532 70.0713 76.1634 70.0713 Z\" fill=\"#000000\" fill-rule=\"evenodd\" fill-opacity=\"1\" /><path clip-path=\"url(#clip250)\" d=\"M 0 0 M93.1771 99.3767 L98.0614 99.3767 L98.0614 105.256 L93.1771 105.256 L93.1771 99.3767 Z\" fill=\"#000000\" fill-rule=\"evenodd\" fill-opacity=\"1\" /><path clip-path=\"url(#clip250)\" d=\"M 0 0 M113.131 73.775 Q109.52 73.775 107.691 77.3398 Q105.885 80.8814 105.885 88.011 Q105.885 95.1174 107.691 98.6822 Q109.52 102.224 113.131 102.224 Q116.765 102.224 118.571 98.6822 Q120.399 95.1174 120.399 88.011 Q120.399 80.8814 118.571 77.3398 Q116.765 73.775 113.131 73.775 M113.131 70.0713 Q118.941 70.0713 121.996 74.6777 Q125.075 79.261 125.075 88.011 Q125.075 96.7378 121.996 101.344 Q118.941 105.928 113.131 105.928 Q107.321 105.928 104.242 101.344 Q101.186 96.7378 101.186 88.011 Q101.186 79.261 104.242 74.6777 Q107.321 70.0713 113.131 70.0713 Z\" fill=\"#000000\" fill-rule=\"evenodd\" fill-opacity=\"1\" /><path clip-path=\"url(#clip250)\" d=\"M 0 0 M140.144 73.775 Q136.533 73.775 134.705 77.3398 Q132.899 80.8814 132.899 88.011 Q132.899 95.1174 134.705 98.6822 Q136.533 102.224 140.144 102.224 Q143.779 102.224 145.584 98.6822 Q147.413 95.1174 147.413 88.011 Q147.413 80.8814 145.584 77.3398 Q143.779 73.775 140.144 73.775 M140.144 70.0713 Q145.955 70.0713 149.01 74.6777 Q152.089 79.261 152.089 88.011 Q152.089 96.7378 149.01 101.344 Q145.955 105.928 140.144 105.928 Q134.334 105.928 131.256 101.344 Q128.2 96.7378 128.2 88.011 Q128.2 79.261 131.256 74.6777 Q134.334 70.0713 140.144 70.0713 Z\" fill=\"#000000\" fill-rule=\"evenodd\" fill-opacity=\"1\" /><path clip-path=\"url(#clip250)\" d=\"M 0 0 M167.158 73.775 Q163.547 73.775 161.718 77.3398 Q159.913 80.8814 159.913 88.011 Q159.913 95.1174 161.718 98.6822 Q163.547 102.224 167.158 102.224 Q170.792 102.224 172.598 98.6822 Q174.427 95.1174 174.427 88.011 Q174.427 80.8814 172.598 77.3398 Q170.792 73.775 167.158 73.775 M167.158 70.0713 Q172.968 70.0713 176.024 74.6777 Q179.103 79.261 179.103 88.011 Q179.103 96.7378 176.024 101.344 Q172.968 105.928 167.158 105.928 Q161.348 105.928 158.269 101.344 Q155.214 96.7378 155.214 88.011 Q155.214 79.261 158.269 74.6777 Q161.348 70.0713 167.158 70.0713 Z\" fill=\"#000000\" fill-rule=\"evenodd\" fill-opacity=\"1\" /><path clip-path=\"url(#clip250)\" d=\"M 0 0 M184.982 101.321 L192.621 101.321 L192.621 74.9555 L184.311 76.6222 L184.311 72.3629 L192.575 70.6963 L197.251 70.6963 L197.251 101.321 L204.89 101.321 L204.89 105.256 L184.982 105.256 L184.982 101.321 Z\" fill=\"#000000\" fill-rule=\"evenodd\" fill-opacity=\"1\" /><path clip-path=\"url(#clip250)\" d=\"M 0 0 M219.959 73.775 Q216.348 73.775 214.519 77.3398 Q212.714 80.8814 212.714 88.011 Q212.714 95.1174 214.519 98.6822 Q216.348 102.224 219.959 102.224 Q223.593 102.224 225.399 98.6822 Q227.227 95.1174 227.227 88.011 Q227.227 80.8814 225.399 77.3398 Q223.593 73.775 219.959 73.775 M219.959 70.0713 Q225.769 70.0713 228.825 74.6777 Q231.903 79.261 231.903 88.011 Q231.903 96.7378 228.825 101.344 Q225.769 105.928 219.959 105.928 Q214.149 105.928 211.07 101.344 Q208.014 96.7378 208.014 88.011 Q208.014 79.261 211.07 74.6777 Q214.149 70.0713 219.959 70.0713 Z\" fill=\"#000000\" fill-rule=\"evenodd\" fill-opacity=\"1\" /><path clip-path=\"url(#clip250)\" d=\"M 0 0 M246.973 73.775 Q243.362 73.775 241.533 77.3398 Q239.727 80.8814 239.727 88.011 Q239.727 95.1174 241.533 98.6822 Q243.362 102.224 246.973 102.224 Q250.607 102.224 252.412 98.6822 Q254.241 95.1174 254.241 88.011 Q254.241 80.8814 252.412 77.3398 Q250.607 73.775 246.973 73.775 M246.973 70.0713 Q252.783 70.0713 255.838 74.6777 Q258.917 79.261 258.917 88.011 Q258.917 96.7378 255.838 101.344 Q252.783 105.928 246.973 105.928 Q241.162 105.928 238.084 101.344 Q235.028 96.7378 235.028 88.011 Q235.028 79.261 238.084 74.6777 Q241.162 70.0713 246.973 70.0713 Z\" fill=\"#000000\" fill-rule=\"evenodd\" fill-opacity=\"1\" /><polyline clip-path=\"url(#clip252)\" style=\"stroke:#009af9; stroke-width:4; stroke-opacity:1; fill:none\" points=\"\n",
       "  341.497,87.9763 359.249,217.208 377.001,334.278 394.752,440.445 412.504,536.816 430.255,624.367 448.007,703.964 465.759,776.373 483.51,842.276 501.262,902.281 \n",
       "  519.014,956.93 536.765,1006.71 554.517,1052.05 572.268,1093.35 590.02,1130.96 607.772,1165.19 625.523,1196.33 643.275,1224.65 661.027,1250.37 678.778,1273.71 \n",
       "  696.53,1294.86 714.281,1313.99 732.033,1331.28 749.785,1346.85 767.536,1360.86 785.288,1373.41 803.039,1384.62 820.791,1394.6 838.543,1403.43 856.294,1411.21 \n",
       "  874.046,1418.01 891.798,1423.9 909.549,1428.95 927.301,1433.23 945.052,1436.79 962.804,1439.68 980.556,1441.95 998.307,1443.65 1016.06,1444.82 1033.81,1445.5 \n",
       "  1051.56,1445.72 1069.31,1445.51 1087.07,1444.91 1104.82,1443.94 1122.57,1442.64 1140.32,1441.02 1158.07,1439.11 1175.82,1436.93 1193.58,1434.49 1211.33,1431.83 \n",
       "  1229.08,1428.95 1246.83,1425.88 1264.58,1422.62 1282.33,1419.19 1300.08,1415.6 1317.84,1411.87 1335.59,1408 1353.34,1404.01 1371.09,1399.91 1388.84,1395.71 \n",
       "  1406.59,1391.41 1424.35,1387.02 1442.1,1382.55 1459.85,1378.01 1477.6,1373.41 1495.35,1368.75 1513.1,1364.03 1530.86,1359.26 1548.61,1354.45 1566.36,1349.61 \n",
       "  1584.11,1344.73 1601.86,1339.82 1619.61,1334.88 1637.37,1329.92 1655.12,1324.94 1672.87,1319.95 1690.62,1314.95 1708.37,1309.93 1726.12,1304.91 1743.88,1299.88 \n",
       "  1761.63,1294.86 1779.38,1289.83 1797.13,1284.8 1814.88,1279.78 1832.63,1274.76 1850.39,1269.75 1868.14,1264.75 1885.89,1259.76 1903.64,1254.78 1921.39,1249.82 \n",
       "  1939.14,1244.87 1956.89,1239.93 1974.65,1235.01 1992.4,1230.11 2010.15,1225.22 2027.9,1220.36 2045.65,1215.51 2063.4,1210.68 2081.16,1205.88 2098.91,1201.1 \n",
       "  2116.66,1196.33 2134.41,1191.6 2152.16,1186.88 2169.91,1182.19 2187.67,1177.52 2205.42,1172.88 2223.17,1168.26 2240.92,1163.66 2258.67,1159.09 2276.42,1154.55 \n",
       "  2294.18,1150.03 \n",
       "  \"/>\n",
       "<path clip-path=\"url(#clip250)\" d=\"\n",
       "M2002.76 216.178 L2283.76 216.178 L2283.76 95.2176 L2002.76 95.2176  Z\n",
       "  \" fill=\"#ffffff\" fill-rule=\"evenodd\" fill-opacity=\"1\"/>\n",
       "<polyline clip-path=\"url(#clip250)\" style=\"stroke:#000000; stroke-width:4; stroke-opacity:1; fill:none\" points=\"\n",
       "  2002.76,216.178 2283.76,216.178 2283.76,95.2176 2002.76,95.2176 2002.76,216.178 \n",
       "  \"/>\n",
       "<polyline clip-path=\"url(#clip250)\" style=\"stroke:#009af9; stroke-width:4; stroke-opacity:1; fill:none\" points=\"\n",
       "  2025.76,155.698 2163.75,155.698 \n",
       "  \"/>\n",
       "<path clip-path=\"url(#clip250)\" d=\"M 0 0 M2200.59 175.385 Q2198.78 180.015 2197.07 181.427 Q2195.36 182.839 2192.49 182.839 L2189.08 182.839 L2189.08 179.274 L2191.58 179.274 Q2193.34 179.274 2194.32 178.44 Q2195.29 177.607 2196.47 174.505 L2197.23 172.561 L2186.75 147.052 L2191.26 147.052 L2199.36 167.329 L2207.46 147.052 L2211.98 147.052 L2200.59 175.385 Z\" fill=\"#000000\" fill-rule=\"evenodd\" fill-opacity=\"1\" /><path clip-path=\"url(#clip250)\" d=\"M 0 0 M2217.86 169.042 L2225.5 169.042 L2225.5 142.677 L2217.19 144.343 L2217.19 140.084 L2225.45 138.418 L2230.13 138.418 L2230.13 169.042 L2237.76 169.042 L2237.76 172.978 L2217.86 172.978 L2217.86 169.042 Z\" fill=\"#000000\" fill-rule=\"evenodd\" fill-opacity=\"1\" /></svg>\n"
      ]
     },
     "execution_count": 195,
     "metadata": {},
     "output_type": "execute_result"
    }
   ],
   "source": [
    "plot(4:0.1:15,l)"
   ]
  },
  {
   "cell_type": "code",
   "execution_count": 219,
   "metadata": {},
   "outputs": [
    {
     "data": {
      "text/plain": [
       "2-element Array{Int64,1}:\n",
       " 3\n",
       " 6"
      ]
     },
     "execution_count": 219,
     "metadata": {},
     "output_type": "execute_result"
    }
   ],
   "source": [
    "function sf1(x)\n",
    "    return x\n",
    "end\n",
    "\n",
    "function sf2(x)\n",
    "    return 2*x\n",
    "end\n",
    "\n",
    "text = [sf1,sf2]\n",
    "arr = \"[\"\n",
    "for i in text\n",
    "    arr = string(arr,i,\"(x),\")\n",
    "end\n",
    "arr = string(arr[1:end-1],\"]\")\n",
    "symb = Meta.parse(arr)\n",
    "\n",
    "expr = \n",
    "quote\n",
    "    function f(x)\n",
    "        return $symb\n",
    "    end\n",
    "end\n",
    "\n",
    "eval(expr)\n",
    "f(3)"
   ]
  },
  {
   "cell_type": "code",
   "execution_count": 244,
   "metadata": {},
   "outputs": [
    {
     "name": "stdout",
     "output_type": "stream",
     "text": [
      "Print 3\n",
      "Print 6\n"
     ]
    }
   ],
   "source": [
    "function sf1(x,y)\n",
    "    return println(\"Print \", x)\n",
    "end\n",
    "\n",
    "function sf2(x,y)\n",
    "    return println(\"Print \",2*x)\n",
    "end\n",
    "\n",
    "#Execute different functions\n",
    "vars = [:x,:y]\n",
    "symb = [:(sf1($(vars...))),:(sf2($(vars...)))]\n",
    "\n",
    "expr = \n",
    "quote\n",
    "    function f(x,y)\n",
    "            $(symb[1:2]...)\n",
    "        return\n",
    "    end\n",
    "end\n",
    "\n",
    "eval(expr)\n",
    "f(3,4)"
   ]
  },
  {
   "cell_type": "code",
   "execution_count": 231,
   "metadata": {},
   "outputs": [
    {
     "data": {
      "text/plain": [
       ":call"
      ]
     },
     "execution_count": 231,
     "metadata": {},
     "output_type": "execute_result"
    }
   ],
   "source": [
    "a.head"
   ]
  },
  {
   "cell_type": "code",
   "execution_count": 21,
   "metadata": {},
   "outputs": [
    {
     "name": "stdout",
     "output_type": "stream",
     "text": [
      "Symbol\n",
      "Int64\n",
      "Expr\n",
      "call\n"
     ]
    }
   ],
   "source": [
    "for i in a.args\n",
    "    println(typeof(i))\n",
    "    if typeof(i) == Expr\n",
    "        println(i.head)\n",
    "    end\n",
    "end"
   ]
  },
  {
   "cell_type": "code",
   "execution_count": 249,
   "metadata": {},
   "outputs": [
    {
     "data": {
      "text/plain": [
       "3"
      ]
     },
     "execution_count": 249,
     "metadata": {},
     "output_type": "execute_result"
    }
   ],
   "source": [
    "length([Nothing,2,3])"
   ]
  },
  {
   "cell_type": "code",
   "execution_count": null,
   "metadata": {},
   "outputs": [],
   "source": []
  },
  {
   "cell_type": "code",
   "execution_count": null,
   "metadata": {},
   "outputs": [],
   "source": []
  }
 ],
 "metadata": {
  "kernelspec": {
   "display_name": "Julia 1.5.0",
   "language": "julia",
   "name": "julia-1.5"
  },
  "language_info": {
   "file_extension": ".jl",
   "mimetype": "application/julia",
   "name": "julia",
   "version": "1.5.2"
  },
  "toc": {
   "base_numbering": 1,
   "nav_menu": {},
   "number_sections": true,
   "sideBar": true,
   "skip_h1_title": false,
   "title_cell": "Table of Contents",
   "title_sidebar": "Contents",
   "toc_cell": false,
   "toc_position": {},
   "toc_section_display": true,
   "toc_window_display": false
  }
 },
 "nbformat": 4,
 "nbformat_minor": 4
}
